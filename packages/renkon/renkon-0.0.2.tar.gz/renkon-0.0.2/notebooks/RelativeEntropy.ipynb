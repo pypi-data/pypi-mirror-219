{
 "cells": [
  {
   "cell_type": "markdown",
   "source": [
    "# Relative Entropy Experiments"
   ],
   "metadata": {
    "collapsed": false
   }
  },
  {
   "cell_type": "code",
   "execution_count": 1,
   "outputs": [
    {
     "name": "stdout",
     "output_type": "stream",
     "text": [
      "Collecting faker\r\n",
      "  Downloading Faker-18.7.0-py3-none-any.whl (1.7 MB)\r\n",
      "\u001B[2K     \u001B[90m━━━━━━━━━━━━━━━━━━━━━━━━━━━━━━━━━━━━━━━━\u001B[0m \u001B[32m1.7/1.7 MB\u001B[0m \u001B[31m3.0 MB/s\u001B[0m eta \u001B[36m0:00:00\u001B[0ma \u001B[36m0:00:01\u001B[0mm\r\n",
      "\u001B[?25hRequirement already satisfied: pyarrow in /Users/dylan/PycharmProjects/renkon/.hatch/renkon/lib/python3.10/site-packages (12.0.0)\r\n",
      "Requirement already satisfied: python-dateutil>=2.4 in /Users/dylan/PycharmProjects/renkon/.hatch/renkon/lib/python3.10/site-packages (from faker) (2.8.2)\r\n",
      "Requirement already satisfied: numpy>=1.16.6 in /Users/dylan/PycharmProjects/renkon/.hatch/renkon/lib/python3.10/site-packages (from pyarrow) (1.24.3)\r\n",
      "Requirement already satisfied: six>=1.5 in /Users/dylan/PycharmProjects/renkon/.hatch/renkon/lib/python3.10/site-packages (from python-dateutil>=2.4->faker) (1.16.0)\r\n",
      "Installing collected packages: faker\r\n",
      "Successfully installed faker-18.7.0\r\n"
     ]
    }
   ],
   "source": [
    "!pip install faker pyarrow"
   ],
   "metadata": {
    "collapsed": false,
    "ExecuteTime": {
     "end_time": "2023-05-11T17:23:31.910800Z",
     "start_time": "2023-05-11T17:23:28.701189Z"
    }
   }
  },
  {
   "cell_type": "code",
   "execution_count": 20,
   "outputs": [],
   "source": [
    "import pyarrow as pa\n",
    "from pyarrow import compute as pc\n",
    "from faker import Faker\n",
    "from rich.jupyter import print\n",
    "Faker.seed(0)\n",
    "fake = Faker()"
   ],
   "metadata": {
    "collapsed": false,
    "ExecuteTime": {
     "end_time": "2023-05-11T17:26:29.169380Z",
     "start_time": "2023-05-11T17:26:28.466390Z"
    }
   }
  },
  {
   "cell_type": "code",
   "execution_count": 106,
   "outputs": [],
   "source": [
    "def gini_index(x: pa.Array):\n",
    "    value_counts = pc.value_counts(x)\n",
    "    value_probs = pc.divide(value_counts.field('counts'), float(len(x)))\n",
    "    return pc.subtract(1, pc.sum(pc.multiply(value_probs, value_probs)))"
   ],
   "metadata": {
    "collapsed": false,
    "ExecuteTime": {
     "end_time": "2023-05-11T18:57:30.376155Z",
     "start_time": "2023-05-11T18:57:30.366344Z"
    }
   }
  },
  {
   "cell_type": "code",
   "execution_count": null,
   "outputs": [],
   "source": [
    "def simpson_index(x: pa.Array):\n",
    "    value_counts = pc.value_counts(x)\n",
    "    value_probs = pc.divide(value_counts.field('counts'), float(len(x)))\n",
    "    return pc.subtract(1, pc.sum(pc.multiply(value_probs, value_probs)))"
   ],
   "metadata": {
    "collapsed": false
   }
  },
  {
   "cell_type": "code",
   "execution_count": 99,
   "outputs": [],
   "source": [
    "# Generate some data...\n",
    "\n",
    "LEN_DATA = 1000\n",
    "Faker.seed(0)\n",
    "countries = pa.array([fake.country() for _ in range(LEN_DATA)])\n",
    "mostly_usa = pa.array([\"United States\" for _ in range(LEN_DATA - 1)] + [\"Canada\"])\n",
    "half_usa = pa.array([\"United States\" for _ in range(LEN_DATA // 2)] + [\"Canada\" for _ in range(LEN_DATA // 2)])"
   ],
   "metadata": {
    "collapsed": false,
    "ExecuteTime": {
     "end_time": "2023-05-11T17:44:06.112413Z",
     "start_time": "2023-05-11T17:44:06.108805Z"
    }
   }
  },
  {
   "cell_type": "code",
   "execution_count": 100,
   "outputs": [
    {
     "data": {
      "text/plain": "(1000, 236)"
     },
     "execution_count": 100,
     "metadata": {},
     "output_type": "execute_result"
    }
   ],
   "source": [
    "len(countries), len(pc.unique(countries))"
   ],
   "metadata": {
    "collapsed": false,
    "ExecuteTime": {
     "end_time": "2023-05-11T17:44:06.436227Z",
     "start_time": "2023-05-11T17:44:06.430359Z"
    }
   }
  },
  {
   "cell_type": "code",
   "execution_count": 101,
   "outputs": [
    {
     "data": {
      "text/plain": "(1000, 2)"
     },
     "execution_count": 101,
     "metadata": {},
     "output_type": "execute_result"
    }
   ],
   "source": [
    "len(mostly_usa), len(pc.unique(mostly_usa))"
   ],
   "metadata": {
    "collapsed": false,
    "ExecuteTime": {
     "end_time": "2023-05-11T17:44:06.700798Z",
     "start_time": "2023-05-11T17:44:06.691603Z"
    }
   }
  },
  {
   "cell_type": "code",
   "execution_count": 102,
   "outputs": [
    {
     "data": {
      "text/plain": "(1000, 2)"
     },
     "execution_count": 102,
     "metadata": {},
     "output_type": "execute_result"
    }
   ],
   "source": [
    "len(half_usa), len(pc.unique(half_usa))"
   ],
   "metadata": {
    "collapsed": false,
    "ExecuteTime": {
     "end_time": "2023-05-11T17:44:07.181058Z",
     "start_time": "2023-05-11T17:44:07.173823Z"
    }
   }
  },
  {
   "cell_type": "code",
   "execution_count": 93,
   "outputs": [],
   "source": [
    "def pc_entropy(probs):\n",
    "    return pc.negate(pc.sum(pc.multiply(probs, pc.log2(probs))))"
   ],
   "metadata": {
    "collapsed": false,
    "ExecuteTime": {
     "end_time": "2023-05-11T17:43:32.109119Z",
     "start_time": "2023-05-11T17:43:32.102298Z"
    }
   }
  },
  {
   "cell_type": "code",
   "execution_count": 94,
   "outputs": [],
   "source": [
    "def relative_entropy(x: pa.Array):\n",
    "    value_counts = pc.value_counts(x)\n",
    "    value_probs = pc.divide(value_counts.field('counts'), float(len(x)))\n",
    "    entropy = pc_entropy(value_probs)\n",
    "\n",
    "    uniform_prob = pc.divide(1, pc.cast(len(value_counts), pa.float64()))\n",
    "    uniform_entropy = pc_entropy(uniform_prob)\n",
    "\n",
    "    score = pc.divide(pc.subtract(uniform_entropy, entropy), uniform_entropy)\n",
    "    return score.as_py()"
   ],
   "metadata": {
    "collapsed": false,
    "ExecuteTime": {
     "end_time": "2023-05-11T17:43:32.346650Z",
     "start_time": "2023-05-11T17:43:32.338568Z"
    }
   }
  },
  {
   "cell_type": "code",
   "execution_count": 95,
   "outputs": [
    {
     "data": {
      "text/plain": "-229.0526279590857"
     },
     "execution_count": 95,
     "metadata": {},
     "output_type": "execute_result"
    }
   ],
   "source": [
    "relative_entropy(countries)"
   ],
   "metadata": {
    "collapsed": false,
    "ExecuteTime": {
     "end_time": "2023-05-11T17:43:32.810162Z",
     "start_time": "2023-05-11T17:43:32.791920Z"
    }
   }
  },
  {
   "cell_type": "code",
   "execution_count": 96,
   "outputs": [
    {
     "data": {
      "text/plain": "0.9771844845250777"
     },
     "execution_count": 96,
     "metadata": {},
     "output_type": "execute_result"
    }
   ],
   "source": [
    "relative_entropy(mostly_usa)"
   ],
   "metadata": {
    "collapsed": false,
    "ExecuteTime": {
     "end_time": "2023-05-11T17:43:34.278805Z",
     "start_time": "2023-05-11T17:43:34.269645Z"
    }
   }
  },
  {
   "cell_type": "code",
   "execution_count": 103,
   "outputs": [
    {
     "data": {
      "text/plain": "-1.0"
     },
     "execution_count": 103,
     "metadata": {},
     "output_type": "execute_result"
    }
   ],
   "source": [
    "relative_entropy(half_usa)"
   ],
   "metadata": {
    "collapsed": false,
    "ExecuteTime": {
     "end_time": "2023-05-11T17:44:19.991301Z",
     "start_time": "2023-05-11T17:44:19.980851Z"
    }
   }
  },
  {
   "cell_type": "code",
   "execution_count": 55,
   "outputs": [
    {
     "data": {
      "text/plain": "<pyarrow.lib.DoubleArray object at 0x10a3dab00>\n[\n  1.8181818181818181,\n  3.6363636363636362,\n  5.454545454545454\n]"
     },
     "execution_count": 55,
     "metadata": {},
     "output_type": "execute_result"
    }
   ],
   "source": [
    "pc.divide(pa.array([10, 20, 30]), 5.5)"
   ],
   "metadata": {
    "collapsed": false,
    "ExecuteTime": {
     "end_time": "2023-05-11T17:34:40.867553Z",
     "start_time": "2023-05-11T17:34:40.862494Z"
    }
   }
  },
  {
   "cell_type": "code",
   "execution_count": 105,
   "outputs": [
    {
     "data": {
      "text/plain": "-9.0"
     },
     "execution_count": 105,
     "metadata": {},
     "output_type": "execute_result"
    }
   ],
   "source": [
    "relative_entropy(pa.array([0, 1, 2, 3, 4, 5, 6, 7, 8, 9]))"
   ],
   "metadata": {
    "collapsed": false,
    "ExecuteTime": {
     "end_time": "2023-05-11T17:45:02.660025Z",
     "start_time": "2023-05-11T17:45:02.655053Z"
    }
   }
  },
  {
   "cell_type": "code",
   "execution_count": null,
   "outputs": [],
   "source": [],
   "metadata": {
    "collapsed": false
   }
  }
 ],
 "metadata": {
  "kernelspec": {
   "display_name": "Python 3",
   "language": "python",
   "name": "python3"
  },
  "language_info": {
   "codemirror_mode": {
    "name": "ipython",
    "version": 2
   },
   "file_extension": ".py",
   "mimetype": "text/x-python",
   "name": "python",
   "nbconvert_exporter": "python",
   "pygments_lexer": "ipython2",
   "version": "2.7.6"
  }
 },
 "nbformat": 4,
 "nbformat_minor": 0
}
