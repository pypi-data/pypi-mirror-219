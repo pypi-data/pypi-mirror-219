{
 "cells": [
  {
   "cell_type": "markdown",
   "metadata": {},
   "source": [
    "# Intro\n",
    "\n",
    "This notebook gives the design decision made to decide on the sizing of the dual port 8T SRAM cell\n",
    "\n",
    "# Setup\n",
    "\n",
    "## Imports"
   ]
  },
  {
   "cell_type": "code",
   "execution_count": 1,
   "metadata": {},
   "outputs": [],
   "source": [
    "import os\n",
    "from os.path import realpath\n",
    "from typing import Optional, overload\n",
    "\n",
    "from IPython.display import Markdown, display\n",
    "def printmd(string):\n",
    "    display(Markdown(string))\n",
    "import ipywidgets as widgets\n",
    "\n",
    "import numpy as np\n",
    "from textwrap import dedent\n",
    "import matplotlib.pyplot as plt\n",
    "\n",
    "from c4m.flexmem import SRAMCellDP8T\n",
    "from c4m.pdk import sky130\n",
    "prims = sky130.tech.primitives"
   ]
  },
  {
   "cell_type": "markdown",
   "metadata": {},
   "source": [
    "\n",
    "## Setup PySpice\n",
    "\n",
    "Compiled libraries for ngspice 36 are provided compiled for either CentOS 7 or Ubuntu20.04 so simulation can be performed without needing to install ngspice. One can comment out the setting of the `NGPSICE_LIBRARY_PATH` environment variable and then ngspice executable in the path will be used to find the shared library. When using own ngspice it is adviced to use version 35 or later to speed up the \n",
    "Also the provided `.spiceinit` file in the running directory is needed to get this speed up."
   ]
  },
  {
   "cell_type": "code",
   "execution_count": 2,
   "metadata": {},
   "outputs": [],
   "source": [
    "import os\n",
    "from os.path import realpath\n",
    "_pwd = realpath(os.curdir)\n",
    "# _libngspice_path = f\"{_pwd}/libngspice36_u2004.so\"\n",
    "# _libngspice_path = f\"{_pwd}/libngspice36_centos7.so\"\n",
    "_libngspice_path = f\"/home/verhaegs/software/mint20/stow/ngspice-36/lib/libngspice.so\"\n",
    "os.environ[\"NGSPICE_LIBRARY_PATH\"] = str(_libngspice_path)"
   ]
  },
  {
   "cell_type": "markdown",
   "metadata": {},
   "source": [
    "## Sky130 SRAM cell class"
   ]
  },
  {
   "cell_type": "code",
   "execution_count": 3,
   "metadata": {},
   "outputs": [],
   "source": [
    "class SRAMCellDP8T_Sky130(SRAMCellDP8T):\n",
    "    def __init__(self, *,\n",
    "        name: str,\n",
    "        pullup_mos=prims.pfet_01v8, pullup_l: float, pullup_w,\n",
    "        pulldown_mos=prims.nfet_01v8, pulldown_l: float, pulldown_w: float,\n",
    "        passgate_mos=prims.nfet_01v8, passgate_l: float, passgate_w: float,\n",
    "    ):\n",
    "        super().__init__(\n",
    "            cktfab=sky130.cktfab, pyspicefab=sky130.pyspicefab, name=name,\n",
    "            pullup_mos=pullup_mos, pullup_params={\"l\": pullup_l, \"w\": pullup_w},\n",
    "            pulldown_mos=pulldown_mos, pulldown_params={\"l\": pulldown_l, \"w\": pulldown_w},\n",
    "            passgate_mos=passgate_mos, passgate_params={\"l\": passgate_l, \"w\": passgate_w},\n",
    "            nom_vdd=1.8, nom_corner=\"logic_ff\", nom_temperature=25,\n",
    "        )"
   ]
  },
  {
   "cell_type": "markdown",
   "metadata": {},
   "source": [
    "# SRAM design\n",
    "\n",
    "The classic 6 transistor single port SRAM cells consists of two back-to-back invertors (e.g a latch) with two nmos access transistors. The pmos of the invertors is called the pull-up transistor, the nmos the pull-down transistor and the access transistor are also called pass gates.\n",
    "\n",
    "Designing an SRAM cell consists of determining l and w of the transistors. This will involve a trade-off between speed, area, data retention, power consumption and write-ability. Different test benches are defined for deriving metrics to allow to make the trade-off.\n",
    "\n",
    "Several metrics are defined in order to allow to quantify the trade-off being made:\n",
    "- Read Current (speed)\n",
    "- Leakage Current (static power consumption)\n",
    "- Static Noise Margin (non-destructive read)\n",
    "- Write Trip Point (write-ability)\n",
    "- Capacitive load on bit line (speed & dynamic power consumption)\n",
    "- Capacitive load on word line (second order dynamic power consumption)\n",
    "\n",
    "Speed is determined both by the read current and the capacitive load of the bitline; the read current says how fast it can decharge the bit line. The capacitive load on the bit line is determined by the w$_{PG}$ and of the parasitic capacitance of the  metal line for the bit line. The R of this bit line may also be contributing to the delay for large bit lines; e.g. with SRAM blocks with high number of rows.\n",
    "\n",
    "# Manual exploration\n",
    "\n",
    "First one can view manually the impact of the cell design on the different metrics.\n"
   ]
  },
  {
   "cell_type": "code",
   "execution_count": 21,
   "metadata": {},
   "outputs": [
    {
     "data": {
      "application/vnd.jupyter.widget-view+json": {
       "model_id": "0324a12acb1c471ea06a88779fad110e",
       "version_major": 2,
       "version_minor": 0
      },
      "text/plain": [
       "interactive(children=(Dropdown(description='corner', index=3, options=('logic_tt', 'logic_ff', 'logic_ss', 'lo…"
      ]
     },
     "metadata": {},
     "output_type": "display_data"
    }
   ],
   "source": [
    "@widgets.interact\n",
    "def sram_metrics(\n",
    "    corner=widgets.Dropdown(\n",
    "        value=\"logic_sf\", options=[\"logic_tt\", \"logic_ff\", \"logic_ss\", \"logic_sf\", \"logic_fs\"],\n",
    "        description=\"corner\",\n",
    "    ),\n",
    "    temp=widgets.FloatText(value=85, description=\"temp. [℃]\"),\n",
    "    vdd=widgets.FloatText(value=1.62, description=\"Vdd [V]\"),\n",
    "    l_pu=widgets.FloatText(value=0.15, description=\"l_PU [µm]\"),\n",
    "    w_pu=widgets.FloatText(value=0.42, description=\"w_PU [µm]\"),\n",
    "    l_pd=widgets.FloatText(value=0.15, description=\"l_PD [µm]\"),\n",
    "    w_pd=widgets.FloatText(value=0.42, description=\"w_PD [µm]\"),\n",
    "    l_pg=widgets.FloatText(value=0.15, description=\"l_PG [µm]\"),\n",
    "    w_pg=widgets.FloatText(value=0.42, description=\"w_PG [µm]\"),\n",
    "    simulate=widgets.Checkbox(value=False, description=\"Simulate\")\n",
    "):\n",
    "    if not simulate:\n",
    "        print(\"Simulation disabled\")\n",
    "        return\n",
    "\n",
    "    cell = SRAMCellDP8T_Sky130(\n",
    "        name=\"sramsp6t\",\n",
    "        pullup_mos=prims.pfet_01v8, pullup_l=l_pu, pullup_w=w_pu,\n",
    "        pulldown_mos=prims.nfet_01v8, pulldown_l=l_pd, pulldown_w=w_pd,\n",
    "        passgate_mos=prims.nfet_01v8, passgate_l=l_pg, passgate_w=w_pg,\n",
    "    )\n",
    "    print(\"1/6\")\n",
    "    Iread = cell.Iread(corner=corner, vdd=vdd, temperature=temp)\n",
    "    print(\"2/6\")\n",
    "    Ileak = cell.Ileak(corner=corner, vdd=vdd, temperature=temp)\n",
    "    print(\"3/6\")\n",
    "    Pstatic = Ileak*vdd\n",
    "    print(\"4/6\")\n",
    "    SNMhold = cell.SNM(read=False, corner=corner, vdd=vdd, temperature=temp)\n",
    "    print(\"5/6\")\n",
    "    SNMread = cell.SNM(read=True, corner=corner, vdd=vdd, temperature=temp)\n",
    "    print(\"6/6\")\n",
    "    WTP = cell.WTP(corner=corner, vdd=vdd, temperature=temp)\n",
    "    printmd(dedent(\"\"\"\n",
    "        | metric | value |\n",
    "        |-:|:-:|\n",
    "        | I_read | {:.3f}mA |\n",
    "        | I_leak | {:.3f}nA |\n",
    "        | P_static | {:.3f}mW/Mbit |\n",
    "        | SNM_hold | {:.1f}mV |\n",
    "        | SNM_read | {:.1f}mV |\n",
    "        | WTP | {:.1f}mV |\n",
    "    \"\"\".format(\n",
    "        Iread*1e3, Ileak*1e9, Pstatic*1e9,\n",
    "        SNMhold*1e3, SNMread*1e3, WTP*1e3,\n",
    "    )))"
   ]
  },
  {
   "cell_type": "markdown",
   "metadata": {},
   "source": [
    "# Worst case corners\n",
    "\n",
    "In this chapter the worst case corner will be determined for each of the metrics.\n",
    "\n",
    "Values considered:\n",
    "\n",
    "* corners: logic_ss, logic_ff, logic_sf, logic_fs\n",
    "* vdd: 1.62...1.98V\n",
    "* temperature: -25...85°C\n"
   ]
  },
  {
   "cell_type": "code",
   "execution_count": 5,
   "metadata": {},
   "outputs": [],
   "source": [
    "testcell = SRAMCellDP8T_Sky130(\n",
    "    name=\"dp8t\",\n",
    "    pullup_mos=prims.pfet_01v8, pullup_l=0.15, pullup_w=0.42,\n",
    "    pulldown_mos=prims.nfet_01v8, pulldown_l=0.15, pulldown_w=0.42,\n",
    "    passgate_mos=prims.nfet_01v8, passgate_l=0.15, passgate_w=0.42,\n",
    ")"
   ]
  },
  {
   "cell_type": "markdown",
   "metadata": {},
   "source": [
    "\n",
    "## SNMread"
   ]
  },
  {
   "cell_type": "code",
   "execution_count": 20,
   "metadata": {},
   "outputs": [
    {
     "name": "stdout",
     "output_type": "stream",
     "text": [
      "1/5\n",
      "2/5\n",
      "3/5\n",
      "4/5\n",
      "5/5\n"
     ]
    },
    {
     "data": {
      "text/markdown": [
       "___SNM_read [mV] (vdd=1.62V)___\n",
       "\n",
       "| | -25 | 25 | 85 |\n",
       "|-:|:-:|:-:|:-:|\n",
       "| __logic_tt__ | 562.7 | 549.2 | 531.9 |\n",
       "| __logic_ss__ | 624.4 | 622.3 | 612.8 |\n",
       "| __logic_ff__ | 451.3 | 431.2 | 412.4 |\n",
       "| __logic_sf__ | 274.6 | 232.2 | 160.7 |\n",
       "| __logic_fs__ | 734.7 | 727.7 | 715.8 |\n"
      ],
      "text/plain": [
       "<IPython.core.display.Markdown object>"
      ]
     },
     "metadata": {},
     "output_type": "display_data"
    }
   ],
   "source": [
    "temps = [-25, 25, 85]\n",
    "corners = [\"logic_tt\", \"logic_ss\", \"logic_ff\", \"logic_sf\", \"logic_fs\"]\n",
    "\n",
    "n_temps = len(temps)\n",
    "n_corners = len(corners)\n",
    "\n",
    "SNMread = np.zeros((n_corners, n_temps))\n",
    "vdd = 1.62\n",
    "s = f\"___SNM_read [mV] (vdd={vdd:.2f}V)___\\n\\n\"\n",
    "s += \"| | \" + \" | \".join([str(temp) for temp in temps]) + \" |\\n\"\n",
    "s += \"|-:|\" + n_temps*\":-:|\" + \"\\n\"\n",
    "for i_corner, corner in enumerate(corners):\n",
    "    print(f\"{i_corner + 1}/{len(corners)}\")\n",
    "    s += \"| __\" + corner + \"__ |\"\n",
    "    for i_temp, temp in enumerate(temps):\n",
    "        SNM = testcell.SNM(read=True, corner=corner, vdd=vdd, temperature=temp)\n",
    "        SNMread[i_corner, i_temp] = SNM\n",
    "        s+= \" {:.1f} |\".format(SNM*1e3)\n",
    "    s += \"\\n\"\n",
    "\n",
    "printmd(s)"
   ]
  },
  {
   "cell_type": "markdown",
   "metadata": {},
   "source": [
    "## WTP"
   ]
  },
  {
   "cell_type": "code",
   "execution_count": 19,
   "metadata": {},
   "outputs": [
    {
     "name": "stdout",
     "output_type": "stream",
     "text": [
      "1/5\n",
      "2/5\n",
      "3/5\n",
      "4/5\n",
      "5/5\n"
     ]
    },
    {
     "data": {
      "text/markdown": [
       "___WTP [mV] (vdd=1.62V)___\n",
       "\n",
       "| | -25 | 25 | 85 |\n",
       "|-:|:-:|:-:|:-:|\n",
       "| __logic_tt__ | 635.3 | 632.2 | 627.5 |\n",
       "| __logic_ss__ | 564.4 | 566.7 | 564.1 |\n",
       "| __logic_ff__ | 715.8 | 710.4 | 707.5 |\n",
       "| __logic_sf__ | 878.2 | 892.8 | 940.9 |\n",
       "| __logic_fs__ | 395.6 | 376.7 | 355.9 |\n"
      ],
      "text/plain": [
       "<IPython.core.display.Markdown object>"
      ]
     },
     "metadata": {},
     "output_type": "display_data"
    }
   ],
   "source": [
    "temps = [-25, 25, 85]\n",
    "corners = [\"logic_tt\", \"logic_ss\", \"logic_ff\", \"logic_sf\", \"logic_fs\"]\n",
    "\n",
    "n_temps = len(temps)\n",
    "n_corners = len(corners)\n",
    "\n",
    "WTP = np.zeros((n_corners, n_temps))\n",
    "vdd = 1.62\n",
    "s = f\"___WTP [mV] (vdd={vdd:.2f}V)___\\n\\n\"\n",
    "s += \"| | \" + \" | \".join([str(temp) for temp in temps]) + \" |\\n\"\n",
    "s += \"|-:|\" + n_temps*\":-:|\" + \"\\n\"\n",
    "for i_corner, corner in enumerate(corners):\n",
    "    print(f\"{i_corner + 1}/{len(corners)}\")\n",
    "    s += \"| __\" + corner + \"__ |\"\n",
    "    for i_temp, temp in enumerate(temps):\n",
    "        v = testcell.WTP(corner=corner, vdd=vdd, temperature=temp)\n",
    "        WTP[i_corner, i_temp] = v\n",
    "        s+= f\" {v*1e3:.1f} |\"\n",
    "    s += \"\\n\"\n",
    "\n",
    "printmd(s)"
   ]
  },
  {
   "cell_type": "markdown",
   "metadata": {},
   "source": [
    "- Read current is mainly determined by the drive strength of the pass gate and the pull down. This is lowest for 'SS' process, lowest Vdd and highest temperature\n",
    "- Highest leakage/static power consumption is seen for logic_ff process, highest Vdd and highest temperature\n",
    "- SNM_read is lowest for the stronger nmos and weaker pmos (logic_sf corner), lowest Vdd and the highest temperature\n",
    "- WTP is lowest for weaker nmos and stronger pmos (logic_fs corner), lowest Vdd; and higher temperature does not much influence on WTP"
   ]
  },
  {
   "cell_type": "code",
   "execution_count": 14,
   "metadata": {},
   "outputs": [],
   "source": [
    "class SRAMCellDP8T_Sky130_WC(SRAMCellDP8T_Sky130):\n",
    "    Vdd_nom = 1.8\n",
    "    @property\n",
    "    def Vdd_low(self):\n",
    "        return 0.9*self.Vdd_nom\n",
    "    @property\n",
    "    def Vdd_high(self):\n",
    "        return 1.1*self.Vdd_nom\n",
    "    \n",
    "    temp_nom = 25\n",
    "    temp_low = -25\n",
    "    temp_high = 85\n",
    "\n",
    "    @property\n",
    "    def Iread_corner(self):\n",
    "        return {\"vdd\": self.Vdd_low, \"corner\": \"logic_ss\", \"temperature\": self.temp_high}\n",
    "    def Iread(self, *, vwl1: Optional[float]=None, vwl2: Optional[float]=None, vpre: Optional[float]=None):\n",
    "        return super().Iread(vwl1=vwl1, vwl2=vwl2, vpre=vpre, **self.Iread_corner)\n",
    "\n",
    "    @property\n",
    "    def Ileak_corner(self):\n",
    "        return {\"vdd\": self.Vdd_high, \"corner\": \"logic_ff\", \"temperature\": self.temp_high}\n",
    "    def Ileak(self, *, vpre: Optional[float]=None, floatbl: bool=False):\n",
    "        return super().Ileak(vpre=vpre, floatbl=floatbl, **self.Ileak_corner)\n",
    "    \n",
    "    @property\n",
    "    def SNM_corner(self):\n",
    "        return {\"vdd\": self.Vdd_low, \"corner\": \"logic_sf\", \"temperature\": self.temp_high}\n",
    "    @overload\n",
    "    def SNM(self, *, read: bool=True, vwl1: None=None, vwl2: None=None, vpre: Optional[float]=None) -> float:\n",
    "        ...\n",
    "    @overload\n",
    "    def SNM(self, *, read: None, vwl1: float, vwl2: Optional[float]=None, vpre: Optional[float]=None) -> float:\n",
    "        ...\n",
    "    def SNM(self, *,\n",
    "        read: Optional[bool]=True, vwl1: Optional[float]=None, vwl2: Optional[float]=None,\n",
    "        vpre: Optional[float]=None,\n",
    "    ) -> float:\n",
    "        return super().SNM(read=read, vwl1=vwl1, vwl2=vwl2, vpre=vpre, **self.SNM_corner)\n",
    "    \n",
    "    @property\n",
    "    def WTP_corner(self):\n",
    "        return {\"vdd\": self.Vdd_low, \"corner\": \"logic_fs\", \"temperature\": self.temp_high}\n",
    "    def WTP(self, vwl1: Optional[float]=None, vwl2: Optional[float]=None, vpre: Optional[float]=None):\n",
    "        return super().WTP(vwl1=vwl1, vwl2=vwl2, vpre=vpre, **self.WTP_corner)"
   ]
  },
  {
   "cell_type": "code",
   "execution_count": 18,
   "metadata": {},
   "outputs": [
    {
     "data": {
      "application/vnd.jupyter.widget-view+json": {
       "model_id": "180c843317f748b88a244995a3cabd88",
       "version_major": 2,
       "version_minor": 0
      },
      "text/plain": [
       "interactive(children=(FloatText(value=0.15, description='l_PU [µm]'), FloatText(value=0.42, description='w_PU …"
      ]
     },
     "metadata": {},
     "output_type": "display_data"
    }
   ],
   "source": [
    "@widgets.interact\n",
    "def sram_metrics(\n",
    "    l_pu=widgets.FloatText(value=0.15, description=\"l_PU [µm]\"),\n",
    "    w_pu=widgets.FloatText(value=0.42, description=\"w_PU [µm]\"),\n",
    "    l_pd=widgets.FloatText(value=0.15, description=\"l_PD [µm]\"),\n",
    "    w_pd=widgets.FloatText(value=0.42, description=\"w_PD [µm]\"),\n",
    "    l_pg=widgets.FloatText(value=0.15, description=\"l_PG [µm]\"),\n",
    "    w_pg=widgets.FloatText(value=0.42, description=\"w_PG [µm]\"),\n",
    "    simulate=widgets.Checkbox(value=False, description=\"Simulate\")\n",
    "):\n",
    "    cell = SRAMCellDP8T_Sky130_WC(\n",
    "        name=\"sramsp6t\",\n",
    "        pullup_l=l_pu, pullup_w=w_pu,\n",
    "        pulldown_l=l_pd, pulldown_w=w_pd,\n",
    "        passgate_l=l_pg, passgate_w=w_pg,\n",
    "    )\n",
    "\n",
    "    if not simulate:\n",
    "        print(\"Simulation disabled\")\n",
    "        return\n",
    "\n",
    "    print(\"1/6\")\n",
    "    Iread = cell.Iread()\n",
    "    print(\"2/6\")\n",
    "    Ileak = cell.Ileak()\n",
    "    print(\"3/6\")\n",
    "    Pstatic = Ileak*cell.Ileak_corner[\"vdd\"]\n",
    "    print(\"4/6\")\n",
    "    SNMhold = cell.SNM(read=False)\n",
    "    print(\"5/6\")\n",
    "    SNMread = cell.SNM(read=True)\n",
    "    print(\"6/6\")\n",
    "    WTP = cell.WTP()\n",
    "    printmd(dedent(f\"\"\"\n",
    "        | metric | value | corner | V_dd [V] | temp [℃] |\n",
    "        |-:|:-:|:-:|:-:|:-:|\n",
    "        | I_read | {Iread*1e6:.1f}µA | {cell.Iread_corner[\"corner\"]} | {cell.Iread_corner[\"vdd\"]:.2f} | {cell.Iread_corner[\"temperature\"]:d} |\n",
    "        | I_leak | {Ileak*1e9:.2f}nA | {cell.Ileak_corner[\"corner\"]} | {cell.Ileak_corner[\"vdd\"]:.2f} | {cell.Ileak_corner[\"temperature\"]:d} |\n",
    "        | P_static | {Pstatic*1e9:.1f}mW/Mbit | {cell.Ileak_corner[\"corner\"]} | {cell.Ileak_corner[\"vdd\"]:.2f} | {cell.Ileak_corner[\"temperature\"]:d} |\n",
    "        | SNM_hold | {SNMhold*1e3:.1f}mV | {cell.SNM_corner[\"corner\"]} | {cell.SNM_corner[\"vdd\"]:.2f} | {cell.SNM_corner[\"temperature\"]:d} |\n",
    "        | SNM_read | {SNMread*1e3:.1f}mV | {cell.SNM_corner[\"corner\"]} | {cell.SNM_corner[\"vdd\"]:.2f} | {cell.SNM_corner[\"temperature\"]:d} |\n",
    "        | WTP | {WTP*1e3:.1f}mV | {cell.WTP_corner[\"corner\"]} | {cell.WTP_corner[\"vdd\"]:.2f} | {cell.WTP_corner[\"temperature\"]:d} |\n",
    "    \"\"\"))"
   ]
  },
  {
   "cell_type": "markdown",
   "metadata": {},
   "source": [
    "The minimum DRC compliant w of the transistor are relatively big for Sky130. This results in a stable and writeable cell with dimensions of all 6 transistor using minimum w of 0.42µm and l of 0.15µm. The SNM_read is lower than the single port cell though with 160mV. Increagin l of passgate to 0.16µm inceases SNM read to 218mV with minor change of read current from 34.2µA ro 33.9µA.\n",
    "When drawing areaid.sc layer on top of nmos the w can be decreased to 0.36µm. When applying this to the pass gate and the pulldown transistor the l of the pass gate has to be increased to 0.17µm. This then results in a SNM read of 232.8mV with a reduction of the read current to 28.7µA.\n",
    "\n",
    "Summary of candidate SRAM cell sizing:\n",
    "\n",
    "| l_PU   | w_PU   | l_PD   | w_PD   | l_PG   | w_PG   | I_read | SNM_read | WTP   |\n",
    "|--------|--------|--------|--------|--------|--------|--------|----------|-------|\n",
    "| 0.15µm | 0.42µm | 0.15µm | 0.42µm | 0.15µm | 0.42µm | 34.2µA | 161mV    | 356mV |\n",
    "| 0.15µm | 0.42µm | 0.15µm | 0.42µm | 0.16µm | 0.42µm | 33.9µA | 218mV    | 355mV |\n",
    "| 0.15µm | 0.42µm | 0.15µm | 0.36µm | 0.17µm | 0.36µm | 28.7µA | 233mV    | 269mV |\n"
   ]
  }
 ],
 "metadata": {
  "kernelspec": {
   "display_name": "Python 3",
   "language": "python",
   "name": "python3"
  },
  "language_info": {
   "codemirror_mode": {
    "name": "ipython",
    "version": 3
   },
   "file_extension": ".py",
   "mimetype": "text/x-python",
   "name": "python",
   "nbconvert_exporter": "python",
   "pygments_lexer": "ipython3",
   "version": "3.7.11"
  },
  "widgets": {
   "application/vnd.jupyter.widget-state+json": {
    "state": {},
    "version_major": 2,
    "version_minor": 0
   }
  }
 },
 "nbformat": 4,
 "nbformat_minor": 4
}
