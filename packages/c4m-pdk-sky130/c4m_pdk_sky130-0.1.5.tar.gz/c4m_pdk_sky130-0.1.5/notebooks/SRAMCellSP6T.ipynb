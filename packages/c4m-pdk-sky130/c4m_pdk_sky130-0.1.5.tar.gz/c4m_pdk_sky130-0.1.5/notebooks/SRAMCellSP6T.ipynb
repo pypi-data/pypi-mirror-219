{
 "cells": [
  {
   "cell_type": "markdown",
   "metadata": {},
   "source": [
    "# Intro\n",
    "\n",
    "This notebook gives the design decision made to decide on the sizing of the single port SRAM cell\n",
    "\n",
    "# Setup\n",
    "\n",
    "## Imports"
   ]
  },
  {
   "cell_type": "code",
   "execution_count": 1,
   "metadata": {
    "tags": []
   },
   "outputs": [],
   "source": [
    "import os\n",
    "from os.path import realpath\n",
    "from typing import Optional, overload, cast\n",
    "\n",
    "from IPython.display import Markdown, display\n",
    "def printmd(string):\n",
    "    display(Markdown(string))\n",
    "import ipywidgets as widgets\n",
    "\n",
    "import numpy as np\n",
    "from textwrap import dedent\n",
    "import matplotlib.pyplot as plt\n",
    "\n",
    "from pdkmaster.technology import primitive as _prm\n",
    "\n",
    "from c4m.flexmem import SRAMCellSP6T\n",
    "from c4m.pdk import sky130\n",
    "prims = sky130.tech.primitives"
   ]
  },
  {
   "cell_type": "markdown",
   "metadata": {
    "tags": []
   },
   "source": [
    "## PySpice\n",
    "\n",
    "Ngspice is used together with PySpice for the simulation part of this workbook. In order to increase parsing of the model files for the sky130 PDK a version >= 35 of ngspice has to be used. Also the provided `.spiceinit` file in the running directory is needed to get this speed up.\n",
    "\n",
    "PySpice uses the `NGPSICE_LIBRARY_PATH` environment variable to find the ngspice library so you may need to set that shell environment before starting the notebook server if it fails to find it on it's own. If your distribution ngspice version is < 35 you can compile your own version and then set the `NGSPICE_LIBRARY_PATH` to the proper path.\n",
    "\n",
    "More specifically on debian 11 the system ngspice version is 34 but you can install the library from unstable using [apt pinning](https://jaqque.sbih.org/kplug/apt-pinning.html) which at the time of writing has version 39:\n",
    "\n",
    "    % sudo apt install -y -t unstable libngspice0\n",
    "    % # Bash syntax, needs conversion for csh etc.\n",
    "    % export NGSPICE_LIBRARY_PATH=/usr/lib/x86_64-linux-gnu/libngspice.so.0\n"
   ]
  },
  {
   "cell_type": "markdown",
   "metadata": {},
   "source": [
    "## Sky130 SRAM cell class"
   ]
  },
  {
   "cell_type": "code",
   "execution_count": 2,
   "metadata": {},
   "outputs": [],
   "source": [
    "class SRAMCellSP6T_Sky130(SRAMCellSP6T):\n",
    "    def __init__(self, *,\n",
    "        name: str,\n",
    "        mos_pullup: _prm.MOSFET=cast(_prm.MOSFET, prims.pfet_01v8),\n",
    "        l_pullup: float, w_pullup: float,\n",
    "        mos_pulldown: _prm.MOSFET=cast(_prm.MOSFET, prims.nfet_01v8_sc),\n",
    "        l_pulldown: float, w_pulldown: float,\n",
    "        mos_passgate: _prm.MOSFET=cast(_prm.MOSFET, prims.nfet_01v8_sc),\n",
    "        l_passgate: float, w_passgate: float,\n",
    "    ):\n",
    "        super().__init__(\n",
    "            cktfab=sky130.cktfab, pyspicefab=sky130.pyspicefab, name=name,\n",
    "            mos_pullup=mos_pullup, l_pullup=l_pullup, w_pullup=w_pullup,\n",
    "            mos_pulldown=mos_pulldown, l_pulldown=l_pulldown, w_pulldown=w_pulldown,\n",
    "            mos_passgate=mos_passgate, l_passgate=l_passgate, w_passgate=w_passgate,\n",
    "            nom_vdd=1.8, nom_corner=\"logic_ff\", nom_temperature=25,\n",
    "        )"
   ]
  },
  {
   "cell_type": "markdown",
   "metadata": {},
   "source": [
    "# SRAM design\n",
    "\n",
    "The classic 6 transistor single port SRAM cells consists of two back-to-back invertors (e.g a latch) with two nmos access transistors. The pmos of the invertors is called the pull-up transistor, the nmos the pull-down transistor and the access transistor are also called pass gates.\n",
    "\n",
    "Designing an SRAM cell consists of determining l and w of the transistors. This will involve a trade-off between speed, area, data retention, power consumption and write-ability. Different test benches are defined for deriving metrics to allow to make the trade-off.\n",
    "\n",
    "Several metrics are defined in order to allow to quantify the trade-off being made:\n",
    "- Read Current (speed)\n",
    "- Leakage Current (static power consumption)\n",
    "- Static Noise Margin (non-destructive read)\n",
    "- Write Trip Point (write-ability)\n",
    "- Capacitive load on bit line (speed & dynamic power consumption)\n",
    "- Capacitive load on word line (second order dynamic power consumption)\n",
    "\n",
    "Speed is determined both by the read current and the capacitive load of the bitline; the read current says how fast it can decharge the bit line. The capacitive load on the bit line is determined by the w$_{PG}$ and of the parasitic capacitance of the  metal line for the bit line. The R of this bit line may also be contributing to the delay for large bit lines; e.g. with SRAM blocks with high number of rows.\n",
    "\n",
    "# Manual exploration\n",
    "\n",
    "First one can view manually the impact of the cell design on the different metrics.\n"
   ]
  },
  {
   "cell_type": "code",
   "execution_count": 3,
   "metadata": {},
   "outputs": [
    {
     "data": {
      "application/vnd.jupyter.widget-view+json": {
       "model_id": "a31c6fbe5c7e402cae87ff201e0f66da",
       "version_major": 2,
       "version_minor": 0
      },
      "text/plain": [
       "interactive(children=(Dropdown(description='corner', options=('logic_tt', 'logic_ff', 'logic_ss', 'logic_sf', …"
      ]
     },
     "metadata": {},
     "output_type": "display_data"
    }
   ],
   "source": [
    "@widgets.interact\n",
    "def sram_metrics(\n",
    "    corner=widgets.Dropdown(\n",
    "        value=\"logic_tt\", options=[\"logic_tt\", \"logic_ff\", \"logic_ss\", \"logic_sf\", \"logic_fs\"],\n",
    "        description=\"corner\",\n",
    "    ),\n",
    "    temp=widgets.FloatText(value=27, description=\"temp. [℃]\"),\n",
    "    vdd=widgets.FloatText(value=1.8, description=\"Vdd [V]\"),\n",
    "    l_pu=widgets.FloatText(value=0.15, description=\"l_PU [µm]\"),\n",
    "    w_pu=widgets.FloatText(value=0.42, description=\"w_PU [µm]\"),\n",
    "    l_pd=widgets.FloatText(value=0.15, description=\"l_PD [µm]\"),\n",
    "    w_pd=widgets.FloatText(value=0.42, description=\"w_PD [µm]\"),\n",
    "    l_pg=widgets.FloatText(value=0.15, description=\"l_PG [µm]\"),\n",
    "    w_pg=widgets.FloatText(value=0.42, description=\"w_PG [µm]\"),\n",
    "    simulate=widgets.Checkbox(value=True, description=\"Simulate\")\n",
    "):\n",
    "    if not simulate:\n",
    "        print(\"Simulation disabled\")\n",
    "        return\n",
    "\n",
    "    cell = SRAMCellSP6T_Sky130(\n",
    "        name=\"sramsp6t\",\n",
    "        mos_pullup=prims.pfet_01v8, l_pullup=l_pu, w_pullup=w_pu,\n",
    "        mos_pulldown=prims.nfet_01v8, l_pulldown=l_pd, w_pulldown=w_pd,\n",
    "        mos_passgate=prims.nfet_01v8_sc, l_passgate=l_pg, w_passgate=w_pg,\n",
    "    )\n",
    "    print(\"1/6\")\n",
    "    Iread = cell.Iread(corner=corner, vdd=vdd, temperature=temp)\n",
    "    print(\"2/6\")\n",
    "    Ileak = cell.Ileak(corner=corner, vdd=vdd, temperature=temp)\n",
    "    print(\"3/6\")\n",
    "    Pstatic = Ileak*vdd\n",
    "    print(\"4/6\")\n",
    "    SNMhold = cell.SNM(read=False, corner=corner, vdd=vdd, temperature=temp)\n",
    "    print(\"5/6\")\n",
    "    SNMread = cell.SNM(read=True, corner=corner, vdd=vdd, temperature=temp)\n",
    "    print(\"6/6\")\n",
    "    WTP = cell.WTP(corner=corner, vdd=vdd, temperature=temp)\n",
    "    printmd(dedent(\"\"\"\n",
    "        | metric | value |\n",
    "        |-:|:-:|\n",
    "        | I_read | {:.3f}mA |\n",
    "        | I_leak | {:.3f}nA |\n",
    "        | P_static | {:.3f}mW/Mbit |\n",
    "        | SNM_hold | {:.1f}mV |\n",
    "        | SNM_read | {:.1f}mV |\n",
    "        | WTP | {:.1f}mV |\n",
    "    \"\"\".format(\n",
    "        Iread*1e3, Ileak*1e9, Pstatic*1e9,\n",
    "        SNMhold*1e3, SNMread*1e3, WTP*1e3,\n",
    "    )))"
   ]
  },
  {
   "cell_type": "markdown",
   "metadata": {},
   "source": [
    "# Worst case corners\n",
    "\n",
    "In this chapter the worst case corner will be determined for each of the metrics.\n",
    "\n",
    "Values considered:\n",
    "\n",
    "* corners: logic_ss, logic_ff, logic_sf, logic_fs\n",
    "* vdd: 1.62...1.98V\n",
    "* temperature: -25...85°C\n"
   ]
  },
  {
   "cell_type": "code",
   "execution_count": 4,
   "metadata": {},
   "outputs": [],
   "source": [
    "testcell = SRAMCellSP6T_Sky130(\n",
    "    name=\"sp6t\",\n",
    "    mos_pullup=prims.pfet_01v8, l_pullup=0.15, w_pullup=0.42,\n",
    "    mos_pulldown=prims.nfet_01v8_sc, l_pulldown=0.15, w_pulldown=0.42,\n",
    "    mos_passgate=prims.nfet_01v8_sc, l_passgate=0.15, w_passgate=0.42,\n",
    ")"
   ]
  },
  {
   "cell_type": "markdown",
   "metadata": {},
   "source": [
    "\n",
    "## SNMread"
   ]
  },
  {
   "cell_type": "code",
   "execution_count": 5,
   "metadata": {},
   "outputs": [
    {
     "name": "stdout",
     "output_type": "stream",
     "text": [
      "1/5\n",
      "2/5\n",
      "3/5\n",
      "4/5\n",
      "5/5\n"
     ]
    },
    {
     "data": {
      "text/markdown": [
       "___SNM_read [mV] (vdd=1.62V)___\n",
       "\n",
       "| | -25 | 25 | 85 |\n",
       "|-:|:-:|:-:|:-:|\n",
       "| __logic_tt__ | 663.0 | 655.9 | 645.5 |\n",
       "| __logic_ss__ | 692.9 | 694.5 | 690.6 |\n",
       "| __logic_ff__ | 604.4 | 592.6 | 580.6 |\n",
       "| __logic_sf__ | 523.5 | 505.6 | 481.9 |\n",
       "| __logic_fs__ | 774.8 | 771.3 | 762.5 |\n"
      ],
      "text/plain": [
       "<IPython.core.display.Markdown object>"
      ]
     },
     "metadata": {},
     "output_type": "display_data"
    }
   ],
   "source": [
    "temps = [-25, 25, 85]\n",
    "corners = [\"logic_tt\", \"logic_ss\", \"logic_ff\", \"logic_sf\", \"logic_fs\"]\n",
    "\n",
    "n_temps = len(temps)\n",
    "n_corners = len(corners)\n",
    "\n",
    "SNMread = np.zeros((n_corners, n_temps))\n",
    "vdd = 1.62\n",
    "s = f\"___SNM_read [mV] (vdd={vdd:.2f}V)___\\n\\n\"\n",
    "s += \"| | \" + \" | \".join([str(temp) for temp in temps]) + \" |\\n\"\n",
    "s += \"|-:|\" + n_temps*\":-:|\" + \"\\n\"\n",
    "for i_corner, corner in enumerate(corners):\n",
    "    print(f\"{i_corner + 1}/{len(corners)}\")\n",
    "    s += \"| __\" + corner + \"__ |\"\n",
    "    for i_temp, temp in enumerate(temps):\n",
    "        SNM = testcell.SNM(read=True, corner=corner, vdd=vdd, temperature=temp)\n",
    "        SNMread[i_corner, i_temp] = SNM\n",
    "        s+= \" {:.1f} |\".format(SNM*1e3)\n",
    "    s += \"\\n\"\n",
    "\n",
    "printmd(s)"
   ]
  },
  {
   "cell_type": "markdown",
   "metadata": {},
   "source": [
    "## WTP"
   ]
  },
  {
   "cell_type": "code",
   "execution_count": 6,
   "metadata": {},
   "outputs": [
    {
     "name": "stdout",
     "output_type": "stream",
     "text": [
      "1/5\n",
      "2/5\n",
      "3/5\n",
      "4/5\n",
      "5/5\n"
     ]
    },
    {
     "data": {
      "text/markdown": [
       "___WTP [mV] (vdd=1.62V)___\n",
       "\n",
       "| | -25 | 25 | 85 |\n",
       "|-:|:-:|:-:|:-:|\n",
       "| __logic_tt__ | 590.0 | 586.8 | 580.4 |\n",
       "| __logic_ss__ | 528.8 | 529.1 | 527.1 |\n",
       "| __logic_ff__ | 661.3 | 648.5 | 633.0 |\n",
       "| __logic_sf__ | 803.8 | 809.0 | 811.1 |\n",
       "| __logic_fs__ | 363.2 | 341.7 | 317.7 |\n"
      ],
      "text/plain": [
       "<IPython.core.display.Markdown object>"
      ]
     },
     "metadata": {},
     "output_type": "display_data"
    }
   ],
   "source": [
    "temps = [-25, 25, 85]\n",
    "corners = [\"logic_tt\", \"logic_ss\", \"logic_ff\", \"logic_sf\", \"logic_fs\"]\n",
    "\n",
    "n_temps = len(temps)\n",
    "n_corners = len(corners)\n",
    "\n",
    "WTP = np.zeros((n_corners, n_temps))\n",
    "vdd = 1.62\n",
    "s = f\"___WTP [mV] (vdd={vdd:.2f}V)___\\n\\n\"\n",
    "s += \"| | \" + \" | \".join([str(temp) for temp in temps]) + \" |\\n\"\n",
    "s += \"|-:|\" + n_temps*\":-:|\" + \"\\n\"\n",
    "for i_corner, corner in enumerate(corners):\n",
    "    print(f\"{i_corner + 1}/{len(corners)}\")\n",
    "    s += \"| __\" + corner + \"__ |\"\n",
    "    for i_temp, temp in enumerate(temps):\n",
    "        v = testcell.WTP(corner=corner, vdd=vdd, temperature=temp)\n",
    "        WTP[i_corner, i_temp] = v\n",
    "        s+= f\" {v*1e3:.1f} |\"\n",
    "    s += \"\\n\"\n",
    "\n",
    "printmd(s)"
   ]
  },
  {
   "cell_type": "markdown",
   "metadata": {},
   "source": [
    "- Read current is mainly determined by the drive strength of the pass gate and the pull down. This is lowest for 'SS' process, lowest Vdd and highest temperature\n",
    "- Highest leakage/static power consumption is seen for logic_ff process, highest Vdd and highest temperature\n",
    "- SNM_read is lowest for the stronger nmos and weaker pmos (logic_sf corner), lowest Vdd and the highest temperature\n",
    "- WTP is lowest for weaker nmos and stronger pmos (logic_fs corner), lowest Vdd; and higher temperature does not much influence on WTP"
   ]
  },
  {
   "cell_type": "code",
   "execution_count": 7,
   "metadata": {},
   "outputs": [],
   "source": [
    "class SRAMCellSP6T_Sky130_WC(SRAMCellSP6T_Sky130):\n",
    "    Vdd_nom = 1.8\n",
    "    @property\n",
    "    def Vdd_low(self):\n",
    "        return 0.9*self.Vdd_nom\n",
    "    @property\n",
    "    def Vdd_high(self):\n",
    "        return 1.1*self.Vdd_nom\n",
    "    \n",
    "    temp_nom = 25\n",
    "    temp_low = -25\n",
    "    temp_high = 85\n",
    "\n",
    "    @property\n",
    "    def Iread_corner(self):\n",
    "        return {\"vdd\": self.Vdd_low, \"corner\": \"logic_ss\", \"temperature\": self.temp_high}\n",
    "    def Iread(self, *, vwl: Optional[float]=None, vpre: Optional[float]=None):\n",
    "        return super().Iread(vwl=vwl, vpre=vpre, **self.Iread_corner)\n",
    "\n",
    "    @property\n",
    "    def Ileak_corner(self):\n",
    "        return {\"vdd\": self.Vdd_high, \"corner\": \"logic_ff\", \"temperature\": self.temp_high}\n",
    "    def Ileak(self, *, vpre: Optional[float]=None, floatbl: bool=False):\n",
    "        return super().Ileak(vpre=vpre, floatbl=floatbl, **self.Ileak_corner)\n",
    "    \n",
    "    @property\n",
    "    def SNM_corner(self):\n",
    "        return {\"vdd\": self.Vdd_low, \"corner\": \"logic_sf\", \"temperature\": self.temp_high}\n",
    "    @overload\n",
    "    def SNM(self, *, read: bool=True, vwl: None=None, vpre: Optional[float]=None) -> float:\n",
    "        ...\n",
    "    @overload\n",
    "    def SNM(self, *, read: None, vwl: float, vpre: Optional[float]=None) -> float:\n",
    "        ...\n",
    "    def SNM(self, *, read: Optional[bool]=True, vwl: Optional[float]=None, vpre: Optional[float]=None) -> float:\n",
    "        return super().SNM(read=read, vwl=vwl, vpre=vpre, **self.SNM_corner)\n",
    "    \n",
    "    @property\n",
    "    def WTP_corner(self):\n",
    "        return {\"vdd\": self.Vdd_low, \"corner\": \"logic_fs\", \"temperature\": self.temp_high}\n",
    "    def WTP(self, vwl: Optional[float]=None, vpre: Optional[float]=None):\n",
    "        return super().WTP(vwl=vwl, vpre=vpre, **self.WTP_corner)"
   ]
  },
  {
   "cell_type": "code",
   "execution_count": 8,
   "metadata": {},
   "outputs": [
    {
     "data": {
      "application/vnd.jupyter.widget-view+json": {
       "model_id": "8c75600833e34e03b27057a1248c86b2",
       "version_major": 2,
       "version_minor": 0
      },
      "text/plain": [
       "interactive(children=(FloatText(value=0.15, description='l_PU [µm]'), FloatText(value=0.42, description='w_PU …"
      ]
     },
     "metadata": {},
     "output_type": "display_data"
    }
   ],
   "source": [
    "@widgets.interact\n",
    "def sram_metrics(\n",
    "    l_pu=widgets.FloatText(value=0.15, description=\"l_PU [µm]\"),\n",
    "    w_pu=widgets.FloatText(value=0.42, description=\"w_PU [µm]\"),\n",
    "    l_pd=widgets.FloatText(value=0.15, description=\"l_PD [µm]\"),\n",
    "    w_pd=widgets.FloatText(value=0.36, description=\"w_PD [µm]\"),\n",
    "    l_pg=widgets.FloatText(value=0.15, description=\"l_PG [µm]\"),\n",
    "    w_pg=widgets.FloatText(value=0.36, description=\"w_PG [µm]\"),\n",
    "    simulate=widgets.Checkbox(value=True, description=\"Simulate\")\n",
    "):\n",
    "    if not simulate:\n",
    "        print(\"Simulation disabled\")\n",
    "\n",
    "    cell = SRAMCellSP6T_Sky130_WC(\n",
    "        name=\"sramsp6t\",\n",
    "        l_pullup=l_pu, w_pullup=w_pu,\n",
    "        l_pulldown=l_pd, w_pulldown=w_pd,\n",
    "        l_passgate=l_pg, w_passgate=w_pg,\n",
    "    )\n",
    "    \n",
    "    print(\"1/6\")\n",
    "    Iread = cell.Iread()\n",
    "    print(\"2/6\")\n",
    "    Ileak = cell.Ileak()\n",
    "    print(\"3/6\")\n",
    "    Pstatic = Ileak*cell.Ileak_corner[\"vdd\"]\n",
    "    print(\"4/6\")\n",
    "    SNMhold = cell.SNM(read=False)\n",
    "    print(\"5/6\")\n",
    "    SNMread = cell.SNM(read=True)\n",
    "    print(\"6/6\")\n",
    "    WTP = cell.WTP()\n",
    "    printmd(dedent(f\"\"\"\n",
    "        | metric | value | corner | V_dd [V] | temp [℃] |\n",
    "        |-:|:-:|:-:|:-:|:-:|\n",
    "        | I_read | {Iread*1e6:.1f}µA | {cell.Iread_corner[\"corner\"]} | {cell.Iread_corner[\"vdd\"]:.2f} | {cell.Iread_corner[\"temperature\"]:d} |\n",
    "        | I_leak | {Ileak*1e9:.2f}nA | {cell.Ileak_corner[\"corner\"]} | {cell.Ileak_corner[\"vdd\"]:.2f} | {cell.Ileak_corner[\"temperature\"]:d} |\n",
    "        | P_static | {Pstatic*1e9:.1f}mW/Mbit | {cell.Ileak_corner[\"corner\"]} | {cell.Ileak_corner[\"vdd\"]:.2f} | {cell.Ileak_corner[\"temperature\"]:d} |\n",
    "        | SNM_hold | {SNMhold*1e3:.1f}mV | {cell.SNM_corner[\"corner\"]} | {cell.SNM_corner[\"vdd\"]:.2f} | {cell.SNM_corner[\"temperature\"]:d} |\n",
    "        | SNM_read | {SNMread*1e3:.1f}mV | {cell.SNM_corner[\"corner\"]} | {cell.SNM_corner[\"vdd\"]:.2f} | {cell.SNM_corner[\"temperature\"]:d} |\n",
    "        | WTP | {WTP*1e3:.1f}mV | {cell.WTP_corner[\"corner\"]} | {cell.WTP_corner[\"vdd\"]:.2f} | {cell.WTP_corner[\"temperature\"]:d} |\n",
    "    \"\"\"))"
   ]
  },
  {
   "cell_type": "markdown",
   "metadata": {},
   "source": [
    "The minimum DRC compliant w of the transistor are relatively big for Sky130. This results in a stable and writeable cell with dimensions of all 6 transistor using minimum w of 0.42µm and l of 0.15µm.\n",
    "The NMOS models also allow min_w of 0.36µm resulting still in good performance metrics."
   ]
  }
 ],
 "metadata": {
  "kernelspec": {
   "display_name": "Python 3 (ipykernel)",
   "language": "python",
   "name": "python3"
  },
  "language_info": {
   "codemirror_mode": {
    "name": "ipython",
    "version": 3
   },
   "file_extension": ".py",
   "mimetype": "text/x-python",
   "name": "python",
   "nbconvert_exporter": "python",
   "pygments_lexer": "ipython3",
   "version": "3.8.13"
  },
  "widgets": {
   "application/vnd.jupyter.widget-state+json": {
    "state": {},
    "version_major": 2,
    "version_minor": 0
   }
  }
 },
 "nbformat": 4,
 "nbformat_minor": 4
}
