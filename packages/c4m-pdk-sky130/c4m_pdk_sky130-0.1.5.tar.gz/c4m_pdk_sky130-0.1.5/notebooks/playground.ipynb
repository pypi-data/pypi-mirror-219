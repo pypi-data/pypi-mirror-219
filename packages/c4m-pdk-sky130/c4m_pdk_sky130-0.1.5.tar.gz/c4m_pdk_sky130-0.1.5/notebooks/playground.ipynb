{
 "cells": [
  {
   "cell_type": "markdown",
   "id": "d5f6e18d-db9c-4d3b-83cb-83f66ee4a4c8",
   "metadata": {},
   "source": [
    "# Setup\n",
    "\n",
    "## Imports"
   ]
  },
  {
   "cell_type": "code",
   "execution_count": 1,
   "id": "6b1c3048-0889-4f5e-b613-e978618998df",
   "metadata": {},
   "outputs": [],
   "source": [
    "from typing import Dict, Tuple, Any\n",
    "from itertools import chain\n",
    "\n",
    "from matplotlib import pyplot as _plt\n",
    "import numpy as _np\n",
    "\n",
    "from pdkmaster.technology import primitive as _prm\n",
    "from pdkmaster.design import circuit as _ckt, library as _lbry\n",
    "\n",
    "from c4m.pdk import sky130\n",
    "prims = sky130.tech.primitives\n",
    "sky130cells = sky130.stdcelllib.cells"
   ]
  },
  {
   "cell_type": "markdown",
   "id": "ddd19e83-d184-4b5c-aa42-9df879ebbd80",
   "metadata": {},
   "source": [
    "## PySpice\n",
    "\n",
    "We use own compiled version of ngspice and set `NGPSICE_LIBRARY_PATH` accordingly. Reason is to use more recent version (>= 35) that speeds up the simulation wirh the ngspice decks. Also the provided `.spiceinit` file in the running directory is needed to get this speed up."
   ]
  },
  {
   "cell_type": "code",
   "execution_count": 2,
   "id": "bd75ba0d-2f50-4881-9935-a760bc3a3f60",
   "metadata": {},
   "outputs": [],
   "source": [
    "import os\n",
    "os.environ[\"NGSPICE_LIBRARY_PATH\"] = \"/home/verhaegs/software/mint20/stow/ngspice-36/lib/libngspice.so\"\n",
    "\n",
    "from PySpice.Unit import *\n"
   ]
  },
  {
   "cell_type": "markdown",
   "id": "d7668037-c3ec-4d81-aa95-44883f83936e",
   "metadata": {},
   "source": [
    "## klayout"
   ]
  },
  {
   "cell_type": "code",
   "execution_count": 3,
   "id": "43dd98e6-1e7e-4374-b936-6e8e016b2dd2",
   "metadata": {},
   "outputs": [],
   "source": [
    "import pya\n",
    "from pdkmaster.io.klayout import export as _klexp\n",
    "ktech = pya.Technology.technology_by_name(\"Skywater_S8\")\n",
    "ksaveopts = ktech.save_layout_options.dup()\n",
    "ksaveopts.write_context_info = False"
   ]
  },
  {
   "cell_type": "markdown",
   "id": "38e8d9d0-6200-4809-b362-9d836c2465b6",
   "metadata": {},
   "source": [
    "# Playground\n",
    "\n",
    "Playgroud to interactively test things."
   ]
  },
  {
   "cell_type": "code",
   "execution_count": null,
   "id": "93dcb0c1-10b1-4bf0-be9e-720fdbd4e7d8",
   "metadata": {},
   "outputs": [],
   "source": []
  }
 ],
 "metadata": {
  "kernelspec": {
   "display_name": "Python 3",
   "language": "python",
   "name": "python3"
  },
  "language_info": {
   "codemirror_mode": {
    "name": "ipython",
    "version": 3
   },
   "file_extension": ".py",
   "mimetype": "text/x-python",
   "name": "python",
   "nbconvert_exporter": "python",
   "pygments_lexer": "ipython3",
   "version": "3.7.13"
  }
 },
 "nbformat": 4,
 "nbformat_minor": 5
}
