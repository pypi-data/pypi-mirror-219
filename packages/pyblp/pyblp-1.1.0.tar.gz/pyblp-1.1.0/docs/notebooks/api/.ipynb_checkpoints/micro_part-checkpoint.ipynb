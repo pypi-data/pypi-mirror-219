{
 "cells": [
  {
   "cell_type": "markdown",
   "id": "2410ccc3",
   "metadata": {},
   "source": [
    "# Micro Part Example"
   ]
  },
  {
   "cell_type": "code",
   "execution_count": 1,
   "id": "f81ca238",
   "metadata": {},
   "outputs": [
    {
     "data": {
      "text/plain": [
       "'0.13.0'"
      ]
     },
     "execution_count": 1,
     "metadata": {},
     "output_type": "execute_result"
    }
   ],
   "source": [
    "import pyblp\n",
    "\n",
    "pyblp.__version__"
   ]
  },
  {
   "cell_type": "markdown",
   "id": "4ff061a3",
   "metadata": {},
   "source": [
    "In this example, we'll build a configuration for a micro part. Each micro part is built on top of a :class:`MicroDataset`. Micro parts are averages/expectations in the sample/population over micro values $v_{pijt}$. For background and notation involving micro moments, see :ref:`background:Micro Moments`.\n",
    "\n",
    "Configuring a micro part requires specifying a unique name for the part, the underlying :class:`MicroDataset`, and a function that defines micro values $v_{pijt}$.\n",
    "\n",
    "First, we'll define a configuration for one of the micro parts used in the [tutorial](petrin.ipynb) that replicates :ref:`references:Petrin (2002)`. We'll start by defining the underlying micro dataset, and then linking the part to it."
   ]
  },
  {
   "cell_type": "code",
   "execution_count": 2,
   "id": "42e753cd",
   "metadata": {},
   "outputs": [
    {
     "data": {
      "text/plain": [
       "E[age_i * mi_j] on CEX: 29125 Observations in All Markets"
      ]
     },
     "execution_count": 2,
     "metadata": {},
     "output_type": "execute_result"
    }
   ],
   "source": [
    "micro_dataset = pyblp.MicroDataset(\n",
    "    name=\"CEX\", \n",
    "    observations=29125, \n",
    "    compute_weights=lambda t, p, a: np.ones((a.size, 1 + p.size)),\n",
    ")\n",
    "age_mi_part = pyblp.MicroPart(\n",
    "    name=\"E[age_i * mi_j]\", \n",
    "    dataset=micro_dataset, \n",
    "    compute_values=lambda t, p, a: np.outer(a.demographics[:, 5], np.r_[0, p.X2[:, 7]]),\n",
    ")\n",
    "age_mi_part"
   ]
  },
  {
   "cell_type": "markdown",
   "id": "bc285ed3",
   "metadata": {},
   "source": [
    "See the tutorial for more information about the dataset. We called our part \"E\\[age_i * mi_j\\]\" to indicate that it implements an average/expectation over the interaction between the demographic \"age\" and the product characteristic \"mi\", which is a dummy for buying a minivan.\n",
    "\n",
    "We implement this in the `compute_values` function, which has three arguments: the current market's ID $t$, the $J_t$ :class:`Products` inside the market, and the $I_t$ :class:`Agents` inside the market. In this case, we are assuming that each product and agent/consumer type are sampled with equal probability, so we simply return a matrix of ones of shape $I_t \\times (1 + J_t)$. This sets each $w_{dijt} = 1$."
   ]
  }
 ],
 "metadata": {
  "kernelspec": {
   "display_name": "Python 3 (ipykernel)",
   "language": "python",
   "name": "python3"
  },
  "language_info": {
   "codemirror_mode": {
    "name": "ipython",
    "version": 3
   },
   "file_extension": ".py",
   "mimetype": "text/x-python",
   "name": "python",
   "nbconvert_exporter": "python",
   "pygments_lexer": "ipython3",
   "version": "3.8.15"
  }
 },
 "nbformat": 4,
 "nbformat_minor": 5
}
