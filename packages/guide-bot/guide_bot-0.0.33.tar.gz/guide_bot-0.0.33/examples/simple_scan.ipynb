{
 "cells": [
  {
   "cell_type": "markdown",
   "id": "bibliographic-trail",
   "metadata": {},
   "source": [
    "# guide_bot example\n",
    "This file is an example of how to use guide_bot to create a large project with several guides and a multidimensional scan.\n",
    "\n",
    "### Import of guide_bot"
   ]
  },
  {
   "cell_type": "code",
   "execution_count": null,
   "id": "human-coffee",
   "metadata": {},
   "outputs": [],
   "source": [
    "import guide_bot as gb"
   ]
  },
  {
   "cell_type": "markdown",
   "id": "homeless-lithuania",
   "metadata": {},
   "source": [
    "### Set up of figure of merit\n",
    "First we set up the figure or merit, here described as a Sample object. We want to investigate both a 1 and 3 cm tall sample area, so we provide a list of sample heights."
   ]
  },
  {
   "cell_type": "code",
   "execution_count": null,
   "id": "buried-adult",
   "metadata": {},
   "outputs": [],
   "source": [
    "target = gb.Target(width=0.02, height=[0.01, 0.03],\n",
    "                   div_horizontal=0.75, div_vertical=1.2,\n",
    "                   min_wavelength=1.5, max_wavelength=3.0,\n",
    "                   instrument_length=60, target_guide_distance=0.5)"
   ]
  },
  {
   "cell_type": "markdown",
   "id": "rubber-power",
   "metadata": {},
   "source": [
    "### Set up neutron source for optimization\n",
    "We set up a moderator for the optimization, here we wish to perform optimizations for a range of moderator heights which we provide as a list.\n",
    "\n",
    "We also set up a second moderator for which we want to test the optimized guides on."
   ]
  },
  {
   "cell_type": "code",
   "execution_count": null,
   "id": "threaded-native",
   "metadata": {},
   "outputs": [],
   "source": [
    "moderator = gb.Moderator(name=\"fom_moderator\", width=0.1,\n",
    "                      height=[0.02, 0.04, 0.06, 0.08, 0.1], guide_start=2.0)\n",
    "\n",
    "large_moderator = gb.Moderator(name=\"large_moderator\", width=0.2, height=0.2, guide_start=2.0)"
   ]
  },
  {
   "cell_type": "markdown",
   "id": "sensitive-spray",
   "metadata": {},
   "source": [
    "### Make a guide_bot project\n",
    "Using our sample and source descriptions, we set up a guide_bot project. This includes settings for numerical optimizations performed in this run."
   ]
  },
  {
   "cell_type": "code",
   "execution_count": null,
   "id": "worst-roberts",
   "metadata": {},
   "outputs": [],
   "source": [
    "settings = {\"maxiter\": 400, \"swarmsize\": 50, \"minstep\": 2E-4,\n",
    "            \"ncount\": 5E6, \"ncount_analysis\": 1E8, \"logfile\": True}\n",
    "\n",
    "first_project = gb.Project(name=\"first_project\", target=target, moderator=moderator,\n",
    "                       settings=settings, analysis_moderators=large_moderator)"
   ]
  },
  {
   "cell_type": "markdown",
   "id": "broad-breath",
   "metadata": {},
   "source": [
    "### Describing the first guide\n",
    "A *guide* object is retrieved from the *project* object, then we build the desired guide geometry by adding guide elements. Here we add a feeder, a gap at 6.5 m from the source, followed by an elliptic guide. The gap has start dimensions of 3 by 4 cm, and a length of 10 cm."
   ]
  },
  {
   "cell_type": "code",
   "execution_count": null,
   "id": "operating-consortium",
   "metadata": {},
   "outputs": [],
   "source": [
    "guide = first_project.new_guide(name=\"Elliptic_with_feeder\")\n",
    "guide += gb.Elliptic(name=\"Feeder\", m=4)\n",
    "guide += gb.Gap(name=\"Chopper_gap\", start_point=6.5, length=0.1, start_width=0.03, start_height=0.04)\n",
    "guide += gb.Elliptic(name=\"Main_guide\", m=3)"
   ]
  },
  {
   "cell_type": "markdown",
   "id": "coordinate-scale",
   "metadata": {},
   "source": [
    "### Second guide with ballistic main guide\n",
    "The second guide we wish to investigate incorperates a straight part in the main guide where we wish to have a constant cross section. In practice we ensure this by defining a parameter describing the width/height and assigning these to the start and end of the straight section.\n",
    "\n",
    "The main guide after the chopper gap will have an ellitpic defocusing and focusing section, each of which is limited to a length of between 2 and 10 m."
   ]
  },
  {
   "cell_type": "code",
   "execution_count": null,
   "id": "useful-teacher",
   "metadata": {},
   "outputs": [],
   "source": [
    "main_guide_width = gb.RelativeFreeInstrumentParameter(\"guide_width\", 0.005, 0.12)\n",
    "main_guide_height = gb.RelativeFreeInstrumentParameter(\"guide_height\", 0.005, 0.12)\n",
    "\n",
    "guide = first_project.new_guide(name=\"Ballistic_with_feeder\")\n",
    "guide += gb.Elliptic(name=\"Feeder\", m=4)\n",
    "guide += gb.Gap(name=\"Chopper_gap\", start_point=6.5, length=0.1,\n",
    "                start_width=0.03, start_height=0.04)\n",
    "guide += gb.Elliptic(name=\"defocusing\", m=3, length=[2, 10],\n",
    "                     minor_axis_x=main_guide_width, minor_axis_y=main_guide_height)\n",
    "guide += gb.Straight(name=\"straight_section\", m=1.5,\n",
    "                     start_width=main_guide_width, start_height=main_guide_height,\n",
    "                     end_width=main_guide_width, end_height=main_guide_height)\n",
    "guide += gb.Elliptic(name=\"focusing\", m=3, length=[2, 10],\n",
    "                     minor_axis_x=main_guide_width, minor_axis_y=main_guide_height)"
   ]
  },
  {
   "cell_type": "markdown",
   "id": "alternative-england",
   "metadata": {},
   "source": [
    "### Alternative versions without feeder\n",
    "We also want to investigate if these beam requirements can be fulfilled without a feeder, so we add two more guide objects describing the same guides only without the feeder."
   ]
  },
  {
   "cell_type": "code",
   "execution_count": null,
   "id": "alpine-works",
   "metadata": {},
   "outputs": [],
   "source": [
    "guide = first_project.new_guide(name=\"Elliptic_without_feeder\")\n",
    "guide += gb.Gap(name=\"Chopper_gap\", start_point=6.5, length=0.1,\n",
    "                start_width=0.03, start_height=0.04)\n",
    "guide += gb.Elliptic(name=\"Main_guide\", m=3)"
   ]
  },
  {
   "cell_type": "code",
   "execution_count": null,
   "id": "former-female",
   "metadata": {},
   "outputs": [],
   "source": [
    "main_guide_width = gb.RelativeFreeInstrumentParameter(\"guide_width\", 0.005, 0.12)\n",
    "main_guide_height = gb.RelativeFreeInstrumentParameter(\"guide_height\", 0.005, 0.12)\n",
    "\n",
    "guide = first_project.new_guide(name=\"Ballistic_without_feeder\")\n",
    "guide += gb.Gap(name=\"Chopper_gap\", start_point=6.5, length=0.1,\n",
    "                start_width=0.03, start_height=0.04)\n",
    "guide += gb.Elliptic(name=\"defocusing\", m=3, length=[2, 10],\n",
    "                     minor_axis_x=main_guide_width, minor_axis_y=main_guide_height)\n",
    "guide += gb.Straight(name=\"straight_section\", m=1.5,\n",
    "                     end_width=main_guide_width, end_height=main_guide_height)\n",
    "guide += gb.Elliptic(name=\"focusing\", m=3, length=[2, 10],\n",
    "                     minor_axis_x=main_guide_width, minor_axis_y=main_guide_height)"
   ]
  },
  {
   "cell_type": "markdown",
   "id": "later-hands",
   "metadata": {},
   "source": [
    "### Preparing the project\n",
    "Lets get an overview of our project, especially to see the number of optimizations that will be performed."
   ]
  },
  {
   "cell_type": "code",
   "execution_count": null,
   "id": "musical-congo",
   "metadata": {},
   "outputs": [],
   "source": [
    "print(first_project)"
   ]
  },
  {
   "cell_type": "markdown",
   "id": "engaging-snake",
   "metadata": {},
   "source": [
    "### Writing the project to disk\n",
    "Since the project contains 40 guide optimizations, we wish to use a cluster. Here we load the SLURM module and provide a configuration file for the ESS DMSC cluster. "
   ]
  },
  {
   "cell_type": "code",
   "execution_count": null,
   "id": "continuous-dressing",
   "metadata": {},
   "outputs": [],
   "source": [
    "from guide_bot.cluster import SLURM\n",
    "DMSC = SLURM.ClusterSLURM(cluster_name=\"DMSC\")\n",
    "\n",
    "first_project.write(cluster=DMSC)"
   ]
  },
  {
   "cell_type": "markdown",
   "id": "precise-hello",
   "metadata": {},
   "source": [
    "### Run on local computer\n",
    "While the project is supposed to be executed on a cluster, it is possible to run the simulations locally. In the next cell the syntax is shown, but commented."
   ]
  },
  {
   "cell_type": "code",
   "execution_count": null,
   "id": "wanted-aberdeen",
   "metadata": {},
   "outputs": [],
   "source": [
    "# At the end we start the optimization of the elliptic guide using the runner\n",
    "#import os\n",
    "#cpath = os.getcwd()\n",
    "#os.chdir(os.path.join(cpath, \"first_project\", \"Ballistic_with_feeder\"))\n",
    "#gb.RunFromFile(\"Ballistic_with_feeder_sam_height_0_mod_height_4.plk\")"
   ]
  },
  {
   "cell_type": "code",
   "execution_count": null,
   "id": "treated-motivation",
   "metadata": {},
   "outputs": [],
   "source": []
  }
 ],
 "metadata": {
  "kernelspec": {
   "display_name": "Python 3",
   "language": "python",
   "name": "python3"
  },
  "language_info": {
   "codemirror_mode": {
    "name": "ipython",
    "version": 3
   },
   "file_extension": ".py",
   "mimetype": "text/x-python",
   "name": "python",
   "nbconvert_exporter": "python",
   "pygments_lexer": "ipython3",
   "version": "3.8.8"
  }
 },
 "nbformat": 4,
 "nbformat_minor": 5
}
