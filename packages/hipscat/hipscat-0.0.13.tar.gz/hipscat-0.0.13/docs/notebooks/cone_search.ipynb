{
 "cells": [
  {
   "attachments": {},
   "cell_type": "markdown",
   "metadata": {},
   "source": [
    "# Cone search demo\n",
    "\n",
    "This notebook walks through a manual, non-parallelized nearest neighbor search. This shows strategies for visualizing a catalog's partitions, and using hipscat's spatial metadata to improve performance in targeted queries."
   ]
  },
  {
   "cell_type": "code",
   "execution_count": null,
   "metadata": {},
   "outputs": [],
   "source": [
    "## Fill in these variables with what's relevant in your use case:\n",
    "\n",
    "catalog_path = \"\"\n",
    "ra = 24.7035278\n",
    "dec = -9.3653083\n",
    "radius = 2  # arcsec"
   ]
  },
  {
   "cell_type": "code",
   "execution_count": null,
   "metadata": {},
   "outputs": [],
   "source": [
    "## TODO - actually implement it =]"
   ]
  },
  {
   "attachments": {},
   "cell_type": "markdown",
   "metadata": {},
   "source": [
    "## Refine the cone search parameters\n",
    "\n",
    "You can visualize the partitions that are found with a cone, and refine the parameters, if you'd like.\n"
   ]
  }
 ],
 "metadata": {
  "language_info": {
   "name": "python"
  },
  "orig_nbformat": 4
 },
 "nbformat": 4,
 "nbformat_minor": 2
}
