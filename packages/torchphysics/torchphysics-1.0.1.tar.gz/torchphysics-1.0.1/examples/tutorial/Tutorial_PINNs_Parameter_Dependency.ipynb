{
 "cells": [
  {
   "cell_type": "code",
   "execution_count": 1,
   "id": "1ef6d147-2dd4-4547-9fb6-79b3758d7350",
   "metadata": {},
   "outputs": [],
   "source": [
    "import torchphysics as tp\n",
    "import numpy as np\n",
    "import torch\n",
    "from matplotlib import pyplot as plt"
   ]
  },
  {
   "cell_type": "markdown",
   "id": "05faf0de-a2f3-4789-a076-3e17ab80b5d5",
   "metadata": {},
   "source": [
    "# PINNs in TorchPhysics for Parameter-Dependent PDEs\n",
    "In the previous [tutorial](https://github.com/TomF98/torchphysics/blob/main/examples/tutorial/Introduction_Tutorial_PINNs.ipynb), we solved a single PDE by PINNs in TorchPhysics. However, it is desirable to solve PDEs for different parameters choices simultaneously. Below, we want to illustrate that the PINN approach is also capable of solving parameter-dependent PDEs.\n",
    "\n",
    "Again, consider the time-dependent heat equation for a perfectly insulated room $\\Omega\\subset \\mathbb{R}^2$ in which a heater is turned on. We introduce the thermic diffusivity $\\color{red}{a \\in A:= [0.1, 1]}$ as well as the time $\\color{red}{p\\in P:=[3, 10]}$ at which the heater reaches its maximal temperature as parameters for the PDE.\n",
    "$$\n",
    "\\begin{cases}\n",
    "\\frac{\\partial}{\\partial t} u(x,t) &= \\color{red}{a} \\Delta_x u(x,t) &&\\text{ on } \\Omega\\times I, \\\\\n",
    "u(x, t) &= u_0 &&\\text{ on } \\Omega\\times \\{0\\},\\\\\n",
    "u(x,t) &= h(t, \\color{red}{p}) &&\\text{ at } \\partial\\Omega_{heater}\\times I, \\\\\n",
    "\\nabla_x u(x, t) \\cdot \\overset{\\rightarrow}{n}(x) &= 0 &&\\text{ at } (\\partial \\Omega \\setminus \\partial\\Omega_{heater}) \\times I.\n",
    "\\end{cases}\n",
    "$$\n",
    "The initial room (and heater) temperature is $u_0 = 16$. The time domain is the interval $I = (0, 20)$, whereas the domain of the room is $\\Omega=(5,0) \\times (4,0)$. The heater is located at $\\partial\\Omega_{heater} = [1,3] \\times \\{4\\}$ and the temperature of the heater is described by the function $h$ defined below."
   ]
  },
  {
   "cell_type": "code",
   "execution_count": 2,
   "id": "d6b5fdd2-67c1-4f7e-a185-9d515fb9f3f8",
   "metadata": {},
   "outputs": [
    {
     "data": {
      "image/png": "[encoded data removed]",
      "text/plain": [
       "<Figure size 432x288 with 1 Axes>"
      ]
     },
     "metadata": {
      "needs_background": "light"
     },
     "output_type": "display_data"
    }
   ],
   "source": [
    "u_0          = 16 # initial temperature\n",
    "u_heater_max = 40 # maximal temperature of the heater\n",
    "\n",
    "# heater temperature function\n",
    "def h(t, p):\n",
    "    # p: time at which the heater reaches its maximal temperature\n",
    "    ht = u_0 + (u_heater_max - u_0) / p * t\n",
    "    ht[t>p] = u_heater_max\n",
    "    return ht\n",
    "\n",
    "# Visualize h(t, p) for fixed p\n",
    "t = np.linspace(0, 20, 200)\n",
    "p = 6\n",
    "plt.plot(t, h(t, p))\n",
    "plt.show()"
   ]
  },
  {
   "cell_type": "markdown",
   "id": "cd62c045-b9f2-4da9-93fa-0f22fda25f5c",
   "metadata": {},
   "source": [
    "Most of the code remains the same compared to the first Tutorial. In the following we rewrite the code from the first Tutorial and indicate where changes are required."
   ]
  },
  {
   "cell_type": "markdown",
   "id": "8f0db4a0-cace-4d21-845f-f34680880d7d",
   "metadata": {},
   "source": [
    "# Translating the PDE Problem into the Language of TorchPhysics"
   ]
  },
  {
   "cell_type": "markdown",
   "id": "e8fe0433-82b7-4093-8f6f-8adf7e46ff5b",
   "metadata": {},
   "source": [
    "### Step 1: Specify spaces and domains"
   ]
  },
  {
   "cell_type": "code",
   "execution_count": 3,
   "id": "6af0dba0-d481-4566-a8b7-244098eee713",
   "metadata": {},
   "outputs": [],
   "source": [
    "# Input and output spaces\n",
    "X = tp.spaces.R2(variable_name='x')\n",
    "T = tp.spaces.R1('t')\n",
    "U = tp.spaces.R1('u')\n",
    "\n",
    "# Domains\n",
    "Omega = tp.domains.Parallelogram(space=X, origin=[0,0], corner_1=[5,0], corner_2=[0,4])\n",
    "I     = tp.domains.Interval(space=T, lower_bound=0, upper_bound=20)"
   ]
  },
  {
   "cell_type": "markdown",
   "id": "096fb96b-c3f2-4957-b7b5-6597da2f5040",
   "metadata": {},
   "source": [
    "In addition, we need to define own TorchPhysics Spaces and Domains for the parameters $a\\in A\\subset \\mathbb{R}$ and $p\\in P \\subset\\mathbb{R}$."
   ]
  },
  {
   "cell_type": "code",
   "execution_count": 4,
   "id": "de756b96-3c0d-42d7-a74d-db387f448426",
   "metadata": {},
   "outputs": [],
   "source": [
    "# Parameter spaces\n",
    "A_space = tp.spaces.R1('a')\n",
    "P_space = tp.spaces.R1('p')\n",
    "\n",
    "A     = tp.domains.Interval(A_space, 0.1, 1.)\n",
    "P     = tp.domains.Interval(P_space, 3, 10)"
   ]
  },
  {
   "cell_type": "markdown",
   "id": "a1676bc3-8dab-4ce4-84ff-f8fc29e8b829",
   "metadata": {},
   "source": [
    "### Step 2: Define point samplers for different subsets of $\\overline{\\Omega\\times I\\times A \\times P}$\n",
    "You may have noticed the little change in the caption of Step 2. Since the neural network should solve the PDE for every parameter $a\\in A$ and $p\\in P$, its input space must be $\\overline{\\Omega\\times I\\times A \\times P}$. Therefore, all samplers must sample points within this extended domain."
   ]
  },
  {
   "cell_type": "code",
   "execution_count": 5,
   "id": "d428cf7f-89ee-4f3f-a1bf-822b82550a7e",
   "metadata": {},
   "outputs": [],
   "source": [
    "domain_pde_condition = Omega * I * A * P\n",
    "sampler_pde_condition = tp.samplers.RandomUniformSampler(domain=domain_pde_condition, n_points=15000)"
   ]
  },
  {
   "cell_type": "markdown",
   "id": "9c9a3f41-54b4-4909-9826-49044cfa6bdc",
   "metadata": {},
   "source": [
    "Similarly for the samplers corresponding to the initial and boundary conditions:"
   ]
  },
  {
   "cell_type": "code",
   "execution_count": 6,
   "id": "e780f5fa-5ebf-4731-8568-77116ea039f6",
   "metadata": {},
   "outputs": [],
   "source": [
    "domain_initial_condition  = Omega * I.boundary_left * A * P\n",
    "sampler_initial_condition    = tp.samplers.RandomUniformSampler(domain_initial_condition, 5000)\n",
    "\n",
    "domain_boundary_condition  = Omega.boundary * I * A * P\n",
    "sampler_boundary_condition =  tp.samplers.RandomUniformSampler(domain_boundary_condition, 5000)"
   ]
  },
  {
   "cell_type": "markdown",
   "id": "6b1b87f9-b6d6-44ec-8fb5-833ab466d89b",
   "metadata": {},
   "source": [
    "### Step 3: Define residual functions\n",
    "The residual for the pde condition requires the thermal diffusivity $a$ as an input."
   ]
  },
  {
   "cell_type": "code",
   "execution_count": 7,
   "id": "c29f3f92-d613-470f-ab74-9369e071ea04",
   "metadata": {},
   "outputs": [],
   "source": [
    "def residual_pde_condition(u, x, t, a):\n",
    "    return a * tp.utils.laplacian(u, x) - tp.utils.grad(u, t)"
   ]
  },
  {
   "cell_type": "markdown",
   "id": "e444a2e5-6fc6-4124-894c-1ba987153241",
   "metadata": {},
   "source": [
    "The residual for the intial condition remains unchanged."
   ]
  },
  {
   "cell_type": "code",
   "execution_count": 8,
   "id": "65954de9-4c80-4d2a-be6e-0cd16ab82596",
   "metadata": {},
   "outputs": [],
   "source": [
    "def residual_initial_condition(u):\n",
    "    return u - u_0"
   ]
  },
  {
   "cell_type": "markdown",
   "id": "97b9bfba-5cd3-400c-8c5a-4cd48b320c80",
   "metadata": {},
   "source": [
    "The Dirichlet condition depends on $p$, the time when the heater reaches its maximal temperature."
   ]
  },
  {
   "cell_type": "code",
   "execution_count": 9,
   "id": "c97e8bfe-1580-4bb8-bb1b-d4c874ef6244",
   "metadata": {},
   "outputs": [],
   "source": [
    "def residual_dirichlet_condition(u, t, p):\n",
    "    return u - h(t, p)"
   ]
  },
  {
   "cell_type": "markdown",
   "id": "de441693-0870-43db-8d8d-38777a075432",
   "metadata": {},
   "source": [
    "The Neumann conditions remains unchanged."
   ]
  },
  {
   "cell_type": "code",
   "execution_count": 10,
   "id": "17d5e293-57bd-4739-9518-a014f6df2b79",
   "metadata": {},
   "outputs": [],
   "source": [
    "def residual_neumann_condition(u, x):\n",
    "    normal_vectors    = Omega.boundary.normal(x)\n",
    "    normal_derivative = tp.utils.normal_derivative(u, normal_vectors, x)\n",
    "    return normal_derivative "
   ]
  },
  {
   "cell_type": "markdown",
   "id": "463e507e-d33b-4f8d-9149-c45356fdf236",
   "metadata": {},
   "source": [
    "Of course, the residual of the combined boundary condition requires $p$ as an input, too."
   ]
  },
  {
   "cell_type": "code",
   "execution_count": 11,
   "id": "4864c6ed-6f2b-4f80-bd6f-cd8ff3d8a809",
   "metadata": {},
   "outputs": [],
   "source": [
    "def residual_boundary_condition(u, x, t, p):\n",
    "    # Create boolean tensor indicating which points x belong to the dirichlet condition (heater location)\n",
    "    heater_location           = (x[:, 0] >= 1 ) & (x[:, 0] <= 3) & (x[:, 1] >= 3.99)    \n",
    "    # First compute Neumann residual everywhere, also at the heater position\n",
    "    residual                  = residual_neumann_condition(u, x)\n",
    "    # Now change residual at the heater to the Dirichlet residual\n",
    "    residual_h                = residual_dirichlet_condition(u, t, p)\n",
    "    residual[heater_location] = residual_h[heater_location]\n",
    "    return residual"
   ]
  },
  {
   "cell_type": "markdown",
   "id": "0cc89ada-310b-4a84-bcc0-77baa7afca2c",
   "metadata": {},
   "source": [
    "### Step 4: Define Neural Network\n",
    "As already mentioned, the input of our model should belong to $\\overline{\\Omega\\times I\\times A\\times P}$. Moreover, we slightly increase the size of the fully connected layers, since this time the model needs to learn more."
   ]
  },
  {
   "cell_type": "code",
   "execution_count": 12,
   "id": "bdef3d80-90e6-47aa-95ce-6d735fd03f36",
   "metadata": {},
   "outputs": [],
   "source": [
    "normalization_layer = tp.models.NormalizationLayer(Omega*I*A*P)\n",
    "\n",
    "fcn_layer           = tp.models.FCN(input_space=X*T*A_space*P_space, output_space=U, hidden = (80,80,50,50))\n",
    "\n",
    "model               = tp.models.Sequential(normalization_layer, fcn_layer)"
   ]
  },
  {
   "cell_type": "markdown",
   "id": "17e3f8ab-bd6c-4f4f-94a6-030930458c0c",
   "metadata": {},
   "source": [
    "### Step 5: Create TorchPhysics Conditions\n",
    "Here, nothing needs to be changed."
   ]
  },
  {
   "cell_type": "code",
   "execution_count": 13,
   "id": "008c09a7-81f8-41b5-8c10-3892812740ad",
   "metadata": {},
   "outputs": [],
   "source": [
    "pde_condition      = tp.conditions.PINNCondition(module     =model, \n",
    "                                                 sampler    =sampler_pde_condition,\n",
    "                                                 residual_fn=residual_pde_condition)\n",
    "\n",
    "initial_condition  = tp.conditions.PINNCondition(module     =model, \n",
    "                                                 sampler    =sampler_initial_condition,\n",
    "                                                 residual_fn=residual_initial_condition)\n",
    "\n",
    "boundary_condition = tp.conditions.PINNCondition(module     =model, \n",
    "                                                 sampler    =sampler_boundary_condition,\n",
    "                                                 residual_fn=residual_boundary_condition)"
   ]
  },
  {
   "cell_type": "markdown",
   "id": "31d80c43-5879-401c-8212-0e4a5fd6514c",
   "metadata": {},
   "source": [
    "# Training based on Pytorch Lightning \n",
    "Also in the training part, everything remains as it was."
   ]
  },
  {
   "cell_type": "code",
   "execution_count": 14,
   "id": "bb76e892-bf53-4a01-adc5-74dddb770525",
   "metadata": {},
   "outputs": [],
   "source": [
    "import pytorch_lightning as pl\n",
    "import os\n",
    "os.environ[\"CUDA_VISIBLE_DEVICES\"] = \"2\" # select GPUs to use"
   ]
  },
  {
   "cell_type": "code",
   "execution_count": 15,
   "id": "60fb3653-7b2c-40cf-a19c-e82bc43ef0d2",
   "metadata": {},
   "outputs": [],
   "source": [
    "training_conditions = [pde_condition, initial_condition, boundary_condition]"
   ]
  },
  {
   "cell_type": "code",
   "execution_count": null,
   "id": "857c00e3-07c8-45c5-bc14-cc4397b2d1d9",
   "metadata": {},
   "outputs": [],
   "source": [
    "optim = tp.OptimizerSetting(optimizer_class=torch.optim.Adam, lr=0.007)\n",
    "\n",
    "solver = tp.solver.Solver(train_conditions=training_conditions, optimizer_setting=optim)"
   ]
  },
  {
   "cell_type": "code",
   "execution_count": 19,
   "id": "818dd812-62c5-4bac-b8bf-c0d2da14a53c",
   "metadata": {},
   "outputs": [
    {
     "name": "stderr",
     "output_type": "stream",
     "text": [
      "GPU available: True, used: True\n",
      "TPU available: False, using: 0 TPU cores\n",
      "IPU available: False, using: 0 IPUs\n",
      "HPU available: False, using: 0 HPUs\n",
      "LOCAL_RANK: 0 - CUDA_VISIBLE_DEVICES: [2]\n",
      "\n",
      "  | Name             | Type       | Params\n",
      "------------------------------------------------\n",
      "0 | train_conditions | ModuleList | 13.6 K\n",
      "1 | val_conditions   | ModuleList | 0     \n",
      "------------------------------------------------\n",
      "13.6 K    Trainable params\n",
      "0         Non-trainable params\n",
      "13.6 K    Total params\n",
      "0.055     Total estimated model params size (MB)\n"
     ]
    },
    {
     "data": {
      "application/vnd.jupyter.widget-view+json": {
       "model_id": "",
       "version_major": 2,
       "version_minor": 0
      },
      "text/plain": [
       "Sanity Checking: 0it [00:00, ?it/s]"
      ]
     },
     "metadata": {},
     "output_type": "display_data"
    },
    {
     "data": {
      "application/vnd.jupyter.widget-view+json": {
       "model_id": "65efa1748b0d4585aecc1382d31110a1",
       "version_major": 2,
       "version_minor": 0
      },
      "text/plain": [
       "Training: 0it [00:00, ?it/s]"
      ]
     },
     "metadata": {},
     "output_type": "display_data"
    },
    {
     "data": {
      "application/vnd.jupyter.widget-view+json": {
       "model_id": "",
       "version_major": 2,
       "version_minor": 0
      },
      "text/plain": [
       "Validation: 0it [00:00, ?it/s]"
      ]
     },
     "metadata": {},
     "output_type": "display_data"
    }
   ],
   "source": [
    "# Start the training\n",
    "trainer = pl.Trainer(gpus=1, # or None if CPU is used\n",
    "                     max_steps=500, # number of training steps\n",
    "                     logger=False,\n",
    "                     benchmark=True,\n",
    "                     checkpoint_callback=False)\n",
    "\n",
    "trainer.fit(solver) # start training"
   ]
  },
  {
   "cell_type": "markdown",
   "id": "bac7c186-2be3-4ce0-a252-527ae5083019",
   "metadata": {},
   "source": [
    "# Visualization\n",
    "Of course, we could again use the plot() function from \"tp.utils\" to visualize the solution for fixed time $t$ and parameters $a, p$, like we did in the first PINNs Tutorial. However, it is  to create an animation over time for different parameter choices. For this purpose we create an AnimationSampler (instead of a PlotSampler). "
   ]
  },
  {
   "cell_type": "code",
   "execution_count": 51,
   "id": "9adc3684-2113-44e7-8d0c-eef2a1c34126",
   "metadata": {},
   "outputs": [],
   "source": [
    "a = 0.11\n",
    "p = 4\n",
    "plot_sampler = tp.samplers.AnimationSampler(plot_domain=Omega, animation_domain=I,\n",
    "                                            frame_number=20, n_points=600, \n",
    "                                            data_for_other_variables={'a':a, 'p':p})"
   ]
  },
  {
   "cell_type": "code",
   "execution_count": 56,
   "id": "583438b4-7bb1-4be7-a8aa-ebe809b66689",
   "metadata": {},
   "outputs": [
    {
     "data": {
      "image/png": "[encoded data removed]",
      "text/plain": [
       "<Figure size 432x288 with 2 Axes>"
      ]
     },
     "metadata": {
      "needs_background": "light"
     },
     "output_type": "display_data"
    }
   ],
   "source": [
    "fig, animation = tp.utils.animate(model, lambda u : u, plot_sampler, ani_type='contour_surface', ani_speed=1)"
   ]
  },
  {
   "cell_type": "code",
   "execution_count": 57,
   "id": "0a74056f-222e-4335-84b8-37ff8626af43",
   "metadata": {},
   "outputs": [],
   "source": [
    "animation.save(f'animation_tut_2_a{a}_p{p}.gif')"
   ]
  },
  {
   "cell_type": "code",
   "execution_count": null,
   "id": "7c854bbd-a4e0-4b36-a9b3-bfe8b3c4850b",
   "metadata": {},
   "outputs": [],
   "source": []
  }
 ],
 "metadata": {
  "kernelspec": {
   "display_name": "Python 3",
   "language": "python",
   "name": "python3"
  },
  "language_info": {
   "codemirror_mode": {
    "name": "ipython",
    "version": 3
   },
   "file_extension": ".py",
   "mimetype": "text/x-python",
   "name": "python",
   "nbconvert_exporter": "python",
   "pygments_lexer": "ipython3",
   "version": "3.9.12"
  }
 },
 "nbformat": 4,
 "nbformat_minor": 5
}
