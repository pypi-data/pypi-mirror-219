{
 "cells": [
  {
   "cell_type": "markdown",
   "id": "df7ba10f-5c88-4f8d-839d-b4b0fdad24a8",
   "metadata": {
    "tags": []
   },
   "source": [
    "# Setup API client"
   ]
  },
  {
   "cell_type": "code",
   "execution_count": null,
   "id": "2e3e0414-8a0c-41bd-99e5-9b1a1a0bbe2a",
   "metadata": {
    "tags": [],
    "pycharm": {
     "is_executing": true
    }
   },
   "outputs": [],
   "source": [
    "!pip install easyai-sdwebui-api\n",
    "import easyai\n",
    "\n",
    "# create API client\n",
    "\n",
    "# create API client with custom host, port and https, default sampler, steps.\n",
    "api = easyai.EasyAPI(host='127.0.0.1', port=443, use_https=False, sampler='Euler a', steps=20)\n",
    "\n",
    "# optionally set username, password when --api-auth is set on webui.\n",
    "# api.set_auth('username', 'password')\n",
    "\n",
    "# check controlnet version\n",
    "api.controlnet_version()\n",
    "\n",
    "# list all controlnet models\n",
    "# api.controlnet_module_list()\n",
    "# api.controlnet_model_list()"
   ]
  },
  {
   "cell_type": "markdown",
   "source": [],
   "metadata": {
    "collapsed": false
   }
  },
  {
   "cell_type": "markdown",
   "id": "38134023-833e-4aba-ad97-c561c97a60a5",
   "metadata": {},
   "source": [
    "# Controlled Generative API Demo\n"
   ]
  },
  {
   "cell_type": "code",
   "execution_count": null,
   "id": "ddcea6a9-7914-445d-a4ee-bf03bca61e0e",
   "metadata": {
    "tags": [],
    "pycharm": {
     "is_executing": true
    }
   },
   "outputs": [],
   "source": [
    "# Generate a base image\n",
    "r = api.txt2img(\n",
    "    prompt=\"a modern bathroom with purple walls\",\n",
    "    negative_prompt=\"longbody, lowres, bad anatomy, extra digit, fewer digits, cropped, worst quality, low quality, out of frame\",\n",
    "    height=512,\n",
    "    seed=2023\n",
    ")\n",
    "\n",
    "# print(r.info)\n",
    "img = r.image\n",
    "img\n"
   ]
  },
  {
   "cell_type": "markdown",
   "id": "15cd06d2-b239-4e0e-8924-3c178b79ed37",
   "metadata": {},
   "source": [
    "# Style change"
   ]
  },
  {
   "cell_type": "code",
   "execution_count": null,
   "id": "f1f7b1ad-3ab1-47fd-ad89-f78d066c19a3",
   "metadata": {
    "tags": [],
    "pycharm": {
     "is_executing": true
    }
   },
   "outputs": [],
   "source": [
    "unit1 = easyai.ControlNetUnit(input_image=img, module='canny', model='control_v11p_sd15_canny [d14c016b]')\n",
    "\n",
    "# style = \"modern\"\n",
    "# style = \"minimalist\"\n",
    "# style = \"professional\"\n",
    "# style = \"tropical\"\n",
    "# style = \"vintage\"\n",
    "# style = \"industrial\"\n",
    "# style = \"neoclassic\"\n",
    "style = \"Chinese\"\n",
    "\n",
    "\n",
    "r2 = api.img2img(\n",
    "    prompt=f\"a {style} style bathroom, best quality, photo from Pinterest, interior, cinematic photo, ultra-detailed, ultra-realistic, award-winning, interior design, natural lighting\",\n",
    "    images=[img],\n",
    "    width=512,\n",
    "    height=512,\n",
    "    controlnet_units=[unit1],\n",
    "    sampler_name=\"Euler a\",\n",
    "    cfg_scale=7,\n",
    "    seed=202304251052\n",
    ")\n",
    "\n",
    "# print(r2.info)\n",
    "new_img = r2.image\n",
    "new_img\n"
   ]
  }
 ],
 "metadata": {
  "kernelspec": {
   "display_name": "Python 3 (ipykernel)",
   "language": "python",
   "name": "python3"
  },
  "language_info": {
   "codemirror_mode": {
    "name": "ipython",
    "version": 3
   },
   "file_extension": ".py",
   "mimetype": "text/x-python",
   "name": "python",
   "nbconvert_exporter": "python",
   "pygments_lexer": "ipython3",
   "version": "3.10.10"
  }
 },
 "nbformat": 4,
 "nbformat_minor": 5
}
