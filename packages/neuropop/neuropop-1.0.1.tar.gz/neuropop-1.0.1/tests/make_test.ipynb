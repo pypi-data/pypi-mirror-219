{
 "cells": [
  {
   "cell_type": "code",
   "execution_count": null,
   "metadata": {},
   "outputs": [],
   "source": [
    "import numpy as np\n",
    "import os\n",
    "import torch\n",
    "from neuropop import nn_prediction\n",
    "\n",
    "# make small dataset\n",
    "root = \"/media/carsen/ssd2/rastermap_paper/\"\n",
    "\n",
    "device = torch.device(\"cpu\")\n",
    "\n",
    "dat = np.load(os.path.join(root, \"data/\", \"spont_data.npz\"))\n",
    "spks, U, sv, V = dat[\"spks\"], dat[\"U\"], dat[\"sv\"], dat[\"V\"]\n",
    "tcam, tneural = dat[\"tcam\"], dat[\"tneural\"]\n",
    "beh = dat[\"beh\"]\n",
    "\n",
    "spks = spks[::60].astype(\"float32\")\n",
    "beh = beh.astype(\"float32\")\n",
    "U = U[::60]\n"
   ]
  },
  {
   "cell_type": "code",
   "execution_count": null,
   "metadata": {},
   "outputs": [],
   "source": [
    "\n",
    "np.random.seed(0)\n",
    "torch.manual_seed(0)\n",
    "torch.cuda.manual_seed(0)\n",
    "\n",
    "### fit nonlinear model from behavior to neural activity\n",
    "Vfit = V.copy() * sv\n",
    "pred_model = nn_prediction.PredictionNetwork(n_in=beh.shape[-1], n_kp=22, n_out=Vfit.shape[-1], )\n",
    "y_pred_all, ve_all, itest = pred_model.train_model(beh, Vfit, tcam, tneural, delay=-1,\n",
    "                                                        learning_rate=1e-3, n_iter=30,\n",
    "                                                    device=device, verbose=True)\n",
    "print(ve_all)\n"
   ]
  },
  {
   "cell_type": "code",
   "execution_count": null,
   "metadata": {},
   "outputs": [],
   "source": [
    "### fit linear model from behavior to neural activity\n",
    "### predict activity from behavior\n",
    "from neuropop import linear_prediction\n",
    "ve, _, spks_pred, itest = linear_prediction.prediction_wrapper(beh, spks.T, rank=32,\n",
    "                                                                tcam=tcam, tneural=tneural,\n",
    "                                                                lam=1e-2, delay=-1, device=device)\n",
    "print(ve)\n",
    "\n",
    "ve, _, spks_pred, itest = linear_prediction.prediction_wrapper(beh, spks.T, rank=None,\n",
    "                                                                tcam=tcam, tneural=tneural,\n",
    "                                                                lam=1e-2, delay=-1, device=device)\n",
    "print(ve)"
   ]
  },
  {
   "cell_type": "code",
   "execution_count": null,
   "metadata": {},
   "outputs": [],
   "source": [
    "from neuropop import dimensionality\n",
    "\n",
    "scov, varcov = dimensionality.SVCA(spks)\n",
    "alpha, py = dimensionality.get_powerlaw(scov, trange=np.arange(10,len(scov)))\n",
    "\n",
    "print(alpha)"
   ]
  },
  {
   "cell_type": "code",
   "execution_count": null,
   "metadata": {},
   "outputs": [],
   "source": [
    "np.savez(\"neuropop_test_data.npz\", spks=spks, beh=beh, U=U, sv=sv, V=V, tcam=tcam, tneural=tneural)"
   ]
  }
 ],
 "metadata": {
  "kernelspec": {
   "display_name": "Python 3.9.16 ('rastermap')",
   "language": "python",
   "name": "python3"
  },
  "language_info": {
   "codemirror_mode": {
    "name": "ipython",
    "version": 3
   },
   "file_extension": ".py",
   "mimetype": "text/x-python",
   "name": "python",
   "nbconvert_exporter": "python",
   "pygments_lexer": "ipython3",
   "version": "3.9.16"
  },
  "orig_nbformat": 4,
  "vscode": {
   "interpreter": {
    "hash": "998540cc2fc2836a46e99cd3ca3c37c375205941b23fd1eb4b203c48f2be758f"
   }
  }
 },
 "nbformat": 4,
 "nbformat_minor": 2
}
