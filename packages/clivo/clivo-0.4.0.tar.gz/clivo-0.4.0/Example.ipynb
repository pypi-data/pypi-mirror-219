{
 "cells": [
  {
   "cell_type": "code",
   "execution_count": 1,
   "metadata": {},
   "outputs": [],
   "source": [
    "import oclock\n",
    "from threading import Event\n",
    "from clivo import CommandLineInterface, ControlledProperty, ControlledEvent"
   ]
  },
  {
   "attachments": {},
   "cell_type": "markdown",
   "metadata": {},
   "source": [
    "# Info on what object properties will be controlled"
   ]
  },
  {
   "cell_type": "code",
   "execution_count": 2,
   "metadata": {},
   "outputs": [],
   "source": [
    "interval = ControlledProperty(attribute='timer.interval',\n",
    "                              readable='Δt (s)',\n",
    "                              commands=('dt',))\n",
    "\n",
    "averaging = ControlledProperty(attribute='averaging',\n",
    "                               readable='Averaging',\n",
    "                               commands=('avg',))\n",
    "            \n",
    "value = ControlledProperty(attribute='value',\n",
    "                           readable='Value',\n",
    "                           commands=('val',))"
   ]
  },
  {
   "attachments": {},
   "cell_type": "markdown",
   "metadata": {},
   "source": [
    "# Generate objects to be controlled"
   ]
  },
  {
   "cell_type": "code",
   "execution_count": 3,
   "metadata": {},
   "outputs": [],
   "source": [
    "class TestObjectA:\n",
    "\n",
    "    def __init__(self):\n",
    "        self.timer = oclock.Timer(interval=1, warnings=True)\n",
    "        self._avg = 10  \n",
    "        self.controlled_properties = interval, averaging\n",
    "        \n",
    "    @property\n",
    "    def averaging(self):\n",
    "        return self._avg\n",
    "\n",
    "    @averaging.setter\n",
    "    def averaging(self, val):\n",
    "        self._avg = val\n",
    "        self.timer.reset()  # for immediate effect\n",
    "\n",
    "    def on_stop(self):\n",
    "        self.timer.stop()\n",
    "        \n",
    "class TestObjectB:\n",
    "\n",
    "    def __init__(self):     \n",
    "        self.averaging = 10\n",
    "        self.value = 1    \n",
    "        self.controlled_properties = value, averaging"
   ]
  },
  {
   "cell_type": "code",
   "execution_count": 4,
   "metadata": {},
   "outputs": [],
   "source": [
    "obj1 = TestObjectA()\n",
    "obj2 = TestObjectA()\n",
    "obj3 = TestObjectB()\n",
    "\n",
    "objects = {'A1': obj1, 'A2': obj2, 'objB': obj3}"
   ]
  },
  {
   "attachments": {},
   "cell_type": "markdown",
   "metadata": {},
   "source": [
    "# Indicate what events can be triggered from CLI"
   ]
  },
  {
   "cell_type": "code",
   "execution_count": 5,
   "metadata": {},
   "outputs": [],
   "source": [
    "graph_event = ControlledEvent(event=Event(),\n",
    "                              readable='graph',\n",
    "                              commands=('g', 'graph'))\n",
    "                    \n",
    "events = graph_event,"
   ]
  },
  {
   "attachments": {},
   "cell_type": "markdown",
   "metadata": {},
   "source": [
    "(Note: a stop event is generated internally but can also be passed)"
   ]
  },
  {
   "attachments": {},
   "cell_type": "markdown",
   "metadata": {},
   "source": [
    "# Create and start command line interface"
   ]
  },
  {
   "cell_type": "code",
   "execution_count": 6,
   "metadata": {},
   "outputs": [
    {
     "name": "stdout",
     "output_type": "stream",
     "text": [
      "Stop event not passed. Creating one internally.\n"
     ]
    }
   ],
   "source": [
    "cli = CommandLineInterface(objects=objects, events=events)"
   ]
  },
  {
   "cell_type": "code",
   "execution_count": 7,
   "metadata": {},
   "outputs": [
    {
     "name": "stdout",
     "output_type": "stream",
     "text": [
      "OBJECTS ========================================================================\n",
      "--- A1 [<__main__.TestObjectA object at 0x108653400>]\n",
      "        Δt (s)\n",
      "        Averaging\n",
      "--- A2 [<__main__.TestObjectA object at 0x108653b80>]\n",
      "        Δt (s)\n",
      "        Averaging\n",
      "--- objB [<__main__.TestObjectB object at 0x108653d00>]\n",
      "        Value\n",
      "        Averaging\n",
      "COMMANDS =======================================================================\n",
      "--- Properties\n",
      "        avg -- Averaging [averaging]\n",
      "        val -- Value [value]\n",
      "        dt -- Δt (s) [timer.interval]\n",
      "--- Events\n",
      "        g, graph -- graph\n",
      "--- Exit\n",
      "        q, Q, quit\n",
      "EXAMPLE ========================================================================\n",
      "avg-A2 xx -- change Averaging to xx for A2 only\n",
      "avg xx -- change Averaging to xx for all relevant objects\n",
      "================================================================================\n",
      "Δt (s)\n",
      "A1-----1\n",
      "A2-----1\n",
      "objB---N/A\n",
      "New Δt (s) for A1: 3\n",
      "Unknown Command. \n",
      "Δt (s)\n",
      "A1-----3\n",
      "A2-----1\n",
      "objB---N/A\n",
      "CLI stopped\n"
     ]
    }
   ],
   "source": [
    "cli.run()"
   ]
  },
  {
   "cell_type": "code",
   "execution_count": 8,
   "metadata": {},
   "outputs": [
    {
     "data": {
      "text/plain": [
       "3"
      ]
     },
     "execution_count": 8,
     "metadata": {},
     "output_type": "execute_result"
    }
   ],
   "source": [
    "obj1.timer.interval"
   ]
  },
  {
   "cell_type": "code",
   "execution_count": null,
   "metadata": {},
   "outputs": [],
   "source": []
  }
 ],
 "metadata": {
  "kernelspec": {
   "display_name": "Python 3",
   "language": "python",
   "name": "python3"
  },
  "language_info": {
   "codemirror_mode": {
    "name": "ipython",
    "version": 3
   },
   "file_extension": ".py",
   "mimetype": "text/x-python",
   "name": "python",
   "nbconvert_exporter": "python",
   "pygments_lexer": "ipython3",
   "version": "3.10.9"
  }
 },
 "nbformat": 4,
 "nbformat_minor": 4
}
