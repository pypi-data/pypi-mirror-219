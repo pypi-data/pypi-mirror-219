{
  "cells": [
    {
      "cell_type": "markdown",
      "metadata": {
        "id": "HOoAYj8DfyUK"
      },
      "source": [
        "# Initializing the notebook\n",
        "\n",
        "This notebook provides an introduction to using sparsebm on GPU with _Google Colab_.\n",
        "\n",
        "**⚠️ Do not skip this step ⚠️**\n",
        "\n",
        "You must enable GPUs for the notebook:\n",
        " - Navigate to Edit→Notebook Settings;\n",
        " - Select GPU from the Hardware Accelerator drop-down list.\n"
      ]
    },
    {
      "cell_type": "markdown",
      "metadata": {
        "id": "ttFXofC6egOR"
      },
      "source": [
        "# Installing `sparsebm` and importing the module\n",
        "\n",
        "The SparseBM module is distributed through the [PyPI repository](https://pypi.org/project/sparsebm/) and the documentation is available [here](https://jbleger.gitlab.io/sparsebm).\n",
        "\n",
        "On _Google colab_, the `cupy` module to use GPU is already installed. Only `sparsebm` needs to be installed:"
      ]
    },
    {
      "cell_type": "code",
      "execution_count": null,
      "metadata": {
        "id": "Nvh1yo3Dac5N"
      },
      "outputs": [],
      "source": [
        "# estimated time in colab : <10s\n",
        "!pip install --upgrade sparsebm"
      ]
    },
    {
      "cell_type": "markdown",
      "metadata": {
        "id": "q9Gi2ID2i_Ic"
      },
      "source": [
        "Now, we just have to import the module."
      ]
    },
    {
      "cell_type": "code",
      "execution_count": null,
      "metadata": {
        "id": "8hFb7qzPjDZI"
      },
      "outputs": [],
      "source": [
        "# estimated time in colab: <1s\n",
        "import sparsebm"
      ]
    },
    {
      "cell_type": "markdown",
      "metadata": {
        "id": "PWP7Yk3Niqvq"
      },
      "source": [
        "# Example with the Stochastic Block Model with a known number of classes\n",
        "\n",
        "First, we generate a synthetic graph. To illustrate the behavior, we choose to generate a large graph ($10^4$ row nodes and $2\\cdot10^4$ col. nodes), with 3 row clusters and 4 col. cluster, with an average row degree of 50.\n",
        "\n",
        "Note that you should consider a smaller size if the GPU you've been allocated doesn't have enough memory to handle graphs of this size.\n"
      ]
    },
    {
      "cell_type": "code",
      "execution_count": null,
      "metadata": {
        "id": "aGY9CrcManBp"
      },
      "outputs": [],
      "source": [
        "# estimated time in colab: <1m\n",
        "import numpy as np\n",
        "\n",
        "N1, N2 = 10**4, 2*10**4\n",
        "U = np.random.uniform(size=(3,4))\n",
        "connection_matrix = 80/N2*U/U.mean()\n",
        "\n",
        "dataset = sparsebm.generate_LBM_dataset(number_of_rows=N1, number_of_columns=N2, nb_row_clusters=3, nb_column_clusters=4, connection_probabilities=connection_matrix)"
      ]
    },
    {
      "cell_type": "markdown",
      "source": [
        "We can now can access the generated dataset with the `dataset` object.  The most useful values are `dataset.data` (the sparse adjacency matrix), `dataset.labels` (the simulated labels). Other attributes or properties can be accessed."
      ],
      "metadata": {
        "id": "FEF9e-yLDmlt"
      }
    },
    {
      "cell_type": "code",
      "source": [
        "dataset.data"
      ],
      "metadata": {
        "id": "wNWGf7fIEVch"
      },
      "execution_count": null,
      "outputs": []
    },
    {
      "cell_type": "markdown",
      "metadata": {
        "id": "CBQ42s2v8qrK"
      },
      "source": [
        "### Inference with a known number of groups\n",
        "\n",
        "In this part, we assume the number of clusters is known (3 row clusters and 4 col clusters in this example)."
      ]
    },
    {
      "cell_type": "markdown",
      "metadata": {
        "id": "WdyFxfm92v3K"
      },
      "source": [
        "We can now perform inference, by declaring the `model` object and fiting the model. The module uses here the scikit-learn syntax."
      ]
    },
    {
      "cell_type": "code",
      "execution_count": null,
      "metadata": {
        "id": "B3IgYmJhawic"
      },
      "outputs": [],
      "source": [
        "# estimated time in colab: <2m\n",
        "model = sparsebm.LBM(3,4)\n",
        "model.fit(dataset.data)"
      ]
    },
    {
      "cell_type": "markdown",
      "metadata": {
        "id": "aPkJhoJg3H2W"
      },
      "source": [
        "We can now compare the infered labels in `model.row_labels` and `model.col_labels` to the simulated labels in `dataset.row_labels` and `dataset.col_labels` using the Co-classification adjusted Rand index:\n"
      ]
    },
    {
      "cell_type": "code",
      "execution_count": null,
      "metadata": {
        "id": "WJL-yRFCx0uH"
      },
      "outputs": [],
      "source": [
        "# estimated time in colab: <1s\n",
        "sparsebm.utils.CARI(\n",
        "    dataset.row_labels,\n",
        "    dataset.column_labels,\n",
        "    model.row_labels,\n",
        "    model.column_labels,\n",
        ")"
      ]
    },
    {
      "cell_type": "markdown",
      "metadata": {
        "id": "N7uFRJRyDNt-"
      },
      "source": [
        "Since the CARI is close to 1, we can conclude that the inference is able to retrieve the graph structure. Other elements can be extracted."
      ]
    },
    {
      "cell_type": "markdown",
      "source": [
        "## Inference with unknown number of groups\n",
        "In this part, we assume that the number of clusters is unknown."
      ],
      "metadata": {
        "id": "hYQhEdU8h97q"
      }
    },
    {
      "cell_type": "code",
      "source": [
        "# estimated time in colab: <5m\n",
        "model_selection = sparsebm.ModelSelection(model_type=\"LBM\", plot=False)\n",
        "models = model_selection.fit(dataset.data)"
      ],
      "metadata": {
        "id": "gsap4UauiFXq"
      },
      "execution_count": null,
      "outputs": []
    },
    {
      "cell_type": "markdown",
      "source": [
        "We can show the optimal fit:"
      ],
      "metadata": {
        "id": "-8-NfBF_XyI-"
      }
    },
    {
      "cell_type": "code",
      "source": [
        "models.best"
      ],
      "metadata": {
        "id": "ujBY2qT8X6fF"
      },
      "execution_count": null,
      "outputs": []
    },
    {
      "cell_type": "code",
      "source": [
        "# estimated time in colab: <1s\n",
        "sparsebm.utils.CARI(\n",
        "    dataset.row_labels,\n",
        "    dataset.column_labels,\n",
        "    models.best.row_labels,\n",
        "    models.best.column_labels,\n",
        ") # for the best (for ICL) fit"
      ],
      "metadata": {
        "id": "kLPKo3r3nfFp"
      },
      "execution_count": null,
      "outputs": []
    },
    {
      "cell_type": "markdown",
      "source": [
        "Or we can examine a specific model for a arbitrary number of groups:"
      ],
      "metadata": {
        "id": "DsG1xZONYBg2"
      }
    },
    {
      "cell_type": "code",
      "source": [
        "models[2,2]"
      ],
      "metadata": {
        "id": "rH4OM7K_YIV1"
      },
      "execution_count": null,
      "outputs": []
    },
    {
      "cell_type": "code",
      "execution_count": null,
      "metadata": {
        "id": "j1KzX5Jqn6cU"
      },
      "outputs": [],
      "source": [
        "# estimated time in colab: <1s\n",
        "sparsebm.utils.CARI(\n",
        "    dataset.row_labels,\n",
        "    dataset.column_labels,\n",
        "    models[2,2].row_labels,\n",
        "    models[2,2].column_labels,\n",
        ") # for 2 row groups and 2 col. groups"
      ]
    },
    {
      "cell_type": "markdown",
      "source": [
        "We can show the ICL as a function of the number of groups (sum of the numbers of groups in row and columns)."
      ],
      "metadata": {
        "id": "NfAHPh_B7ant"
      }
    },
    {
      "cell_type": "code",
      "source": [
        "import matplotlib.pyplot as plt\n",
        "\n",
        "plt.plot([sum(x) for x in models.keys()], [m.get_ICL() for m in models.values()])\n",
        "plt.xlabel('number of groups (row+col.)')\n",
        "plt.ylabel('ICL')"
      ],
      "metadata": {
        "id": "7VsFcNL5njOw"
      },
      "execution_count": null,
      "outputs": []
    }
  ],
  "metadata": {
    "accelerator": "GPU",
    "colab": {
      "provenance": [],
      "private_outputs": true,
      "toc_visible": true,
      "gpuType": "T4"
    },
    "kernelspec": {
      "display_name": "Python 3",
      "name": "python3"
    },
    "language_info": {
      "codemirror_mode": {
        "name": "ipython",
        "version": 3
      },
      "file_extension": ".py",
      "mimetype": "text/x-python",
      "name": "python",
      "nbconvert_exporter": "python",
      "pygments_lexer": "ipython3",
      "version": "3.9.2"
    }
  },
  "nbformat": 4,
  "nbformat_minor": 0
}