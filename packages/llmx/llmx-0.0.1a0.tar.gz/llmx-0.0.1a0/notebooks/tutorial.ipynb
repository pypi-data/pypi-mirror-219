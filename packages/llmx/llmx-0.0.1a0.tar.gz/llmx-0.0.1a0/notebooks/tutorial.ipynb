{
 "cells": [
  {
   "cell_type": "code",
   "execution_count": 1,
   "metadata": {},
   "outputs": [
    {
     "name": "stdout",
     "output_type": "stream",
     "text": [
      "using cache:  False\n",
      "saving to cache\n",
      "[{'role': 'assistant', 'content': 'The height of the Eiffel Tower is 324 meters (1,063 feet).'}]\n"
     ]
    }
   ],
   "source": [
    "from llmx import OpenAITextGenerator, TextGenerationConfig\n",
    "\n",
    "gen = OpenAITextGenerator()\n",
    "config = TextGenerationConfig(\n",
    "    model=\"gpt-3.5-turbo-0301\",\n",
    "    n=1,\n",
    "    temperature=0.5,\n",
    "    max_tokens=100,\n",
    "    top_p=1.0,\n",
    "    top_k=50,\n",
    "    frequency_penalty=0.0,\n",
    "    presence_penalty=0.0,\n",
    ")\n",
    "messages =  [\n",
    "        {\"role\": \"user\", \"content\": \"What is the height of the Eiffel Tower?\"},\n",
    "    ]\n",
    "config.messages = messages\n",
    "response = gen.generate(config=config, use_cache=False)\n",
    "print(response.text)\n",
    "# [{'role': 'assistant', 'content': 'The height of the Eiffel Tower is 324 meters (1,063 feet).'}]"
   ]
  },
  {
   "cell_type": "code",
   "execution_count": 2,
   "metadata": {},
   "outputs": [
    {
     "name": "stdout",
     "output_type": "stream",
     "text": [
      "using cache:  True\n",
      "retrieving from cache\n",
      "Gravity is a force that pulls things towards each other. For example, the reason why you don't float away into space is because the Earth's gravity is pulling you towards it. Everything on Earth, including objects and people, is affected by gravity.\n"
     ]
    }
   ],
   "source": [
    "messages = [\n",
    "    {\"role\": \"user\", \"content\": \"You are a helpful assistant that can explain concepts clearly to a 6 year old child.\"},\n",
    "    {\"role\": \"user\", \"content\": \"What is  gravity?\"},\n",
    "]\n",
    "config.messages = messages\n",
    "response = gen.generate(config=config, use_cache=True)\n",
    "print(response.text[0][\"content\"])"
   ]
  },
  {
   "cell_type": "code",
   "execution_count": 3,
   "metadata": {},
   "outputs": [
    {
     "name": "stdout",
     "output_type": "stream",
     "text": [
      "using cache:  True\n",
      "retrieving from cache\n",
      "```\n",
      "def sum_list(lst):\n",
      "    return sum(lst)\n",
      "```\n"
     ]
    }
   ],
   "source": [
    "messages = [\n",
    "    {\"role\": \"user\", \"content\": \"You are a helpful assistant that can write code. Your response contains ONLY the code.\"},\n",
    "    {\"role\": \"user\", \"content\": \"Write python code for a function that takes a list of numbers and returns the sum of the list.\"},\n",
    "]\n",
    "config.messages = messages\n",
    "response = gen.generate(config=config, use_cache=True)\n",
    "print(response.text[0][\"content\"])"
   ]
  },
  {
   "cell_type": "code",
   "execution_count": null,
   "metadata": {},
   "outputs": [],
   "source": []
  },
  {
   "cell_type": "code",
   "execution_count": null,
   "metadata": {},
   "outputs": [],
   "source": []
  }
 ],
 "metadata": {
  "kernelspec": {
   "display_name": "base",
   "language": "python",
   "name": "python3"
  },
  "language_info": {
   "codemirror_mode": {
    "name": "ipython",
    "version": 3
   },
   "file_extension": ".py",
   "mimetype": "text/x-python",
   "name": "python",
   "nbconvert_exporter": "python",
   "pygments_lexer": "ipython3",
   "version": "3.10.8"
  },
  "orig_nbformat": 4
 },
 "nbformat": 4,
 "nbformat_minor": 2
}
