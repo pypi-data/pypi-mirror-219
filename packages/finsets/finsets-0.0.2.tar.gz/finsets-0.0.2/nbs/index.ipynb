{
 "cells": [
  {
   "attachments": {},
   "cell_type": "markdown",
   "metadata": {},
   "source": [
    "# finsets"
   ]
  },
  {
   "attachments": {},
   "cell_type": "markdown",
   "metadata": {},
   "source": [
    "> Download and process datasets commonly used in finance research\n",
    "\n",
    "Each module handles a different data source. Almost all submodules (other than utility ones) have a `download` function that downloads the raw data and a `clean` function that processes the data into a `pandas.DataFrame` having, as index, either:\n",
    "\n",
    "- A `pandas.Period` date reflecting the frequency of the data (for time-series datasets), or\n",
    "- A `pandas.MultiIndex` with a panel identifier in the first dimension and a `pandas.Period` date in the second dimension (for panel datasets).\n",
    "\n",
    "The period date in the index will be named following the pattern `Xdate` where X is the string literal representing the frequency of the data (e.g. `Mdate` for monthly data, `Qdate` for quarterly data, `Adate` for annual data)."
   ]
  },
  {
   "attachments": {},
   "cell_type": "markdown",
   "metadata": {},
   "source": [
    "[Documentation site](https://ionmihai.github.io/finsets/).\n",
    "\n",
    "[GitHub page](https://github.com/ionmihai/finsets)."
   ]
  },
  {
   "attachments": {},
   "cell_type": "markdown",
   "metadata": {},
   "source": [
    "## Install"
   ]
  },
  {
   "attachments": {},
   "cell_type": "markdown",
   "metadata": {},
   "source": [
    "```sh\n",
    "pip install finsets\n",
    "```"
   ]
  },
  {
   "attachments": {},
   "cell_type": "markdown",
   "metadata": {},
   "source": [
    "## How to use"
   ]
  },
  {
   "cell_type": "code",
   "execution_count": null,
   "metadata": {},
   "outputs": [],
   "source": [
    "import finsets as fds"
   ]
  },
  {
   "attachments": {},
   "cell_type": "markdown",
   "metadata": {},
   "source": [
    "or"
   ]
  },
  {
   "cell_type": "code",
   "execution_count": null,
   "metadata": {},
   "outputs": [],
   "source": [
    "from finsets import fred, wrds, papers"
   ]
  },
  {
   "attachments": {},
   "cell_type": "markdown",
   "metadata": {},
   "source": [
    "Below, we very briefly describe each submodule. For more details, please see the documentation of each submodule (they provide a lot more functionality than presented here)."
   ]
  },
  {
   "attachments": {},
   "cell_type": "markdown",
   "metadata": {},
   "source": [
    "## WRDS"
   ]
  },
  {
   "attachments": {},
   "cell_type": "markdown",
   "metadata": {},
   "source": [
    "> Downloads and processes datasets from Wharton Research Data Services [WRDS](https://wrds-www.wharton.upenn.edu/). \n",
    "\n",
    "Each WRDS module handles a different library in WRDS (e.g. `compa` module for the Compustat Annual CCM file, `crspm` for the CRSP Monthly Stock file, etc.).\n"
   ]
  },
  {
   "attachments": {},
   "cell_type": "markdown",
   "metadata": {},
   "source": [
    "Before you use any of the `wrds` modules, you need to create a `pgpass` with your WRDS credentials. To do that, run"
   ]
  },
  {
   "cell_type": "code",
   "execution_count": null,
   "metadata": {},
   "outputs": [],
   "source": [
    "from finsets.wrds import wrds_api"
   ]
  },
  {
   "cell_type": "code",
   "execution_count": null,
   "metadata": {},
   "outputs": [
    {
     "name": "stdout",
     "output_type": "stream",
     "text": [
      "WRDS recommends setting up a .pgpass file.\n",
      "You can create this file yourself at any time with the create_pgpass_file() function.\n",
      "Loading library list...\n",
      "Done\n"
     ]
    }
   ],
   "source": [
    "#| eval: false\n",
    "db = wrds_api.Connection()"
   ]
  },
  {
   "attachments": {},
   "cell_type": "markdown",
   "metadata": {},
   "source": [
    "This will prompt you for your WRDS username and password. After you enter your credentials, if you don't have a `pgpass` file already set up, it will ask you if you want to do that. Hit `y` and it will be automatically created for you. After this, you will never have to input your WRDS password. "
   ]
  },
  {
   "attachments": {},
   "cell_type": "markdown",
   "metadata": {},
   "source": [
    "You will still have to supply your WRDS username to functions that retrieve data from WRDS (all of them have a `wrds_username` parameter). If you don't want to be prompted for the username for every download, save it under a `WRDS_USERNAME` environment variable:\n",
    "\n",
    "- On Windows, in a Command Prompt: \n",
    "    - ```setx WRDS_USERNAME \"your_wrds_username_here\"```\n",
    "- On Linux, in a terminal: \n",
    "    - `echo 'export WRDS_USERNAME=\"your_wrds_username_here\"' >> ~/.bashrc && source ~/.bashrc`\n",
    "- On macOS, since macOS Catalina:\n",
    "    - `echo 'export WRDS_USERNAME=\"your_wrds_username_here\"' >> ~/.zshrc && source ~/.szhrc`\n",
    "- On macOS, prior to macOS Catalina:\n",
    "    - `echo 'export WRDS_USERNAME=\"your_wrds_username_here\"' >> ~/.bash_profile && source ~/.bash_profile`"
   ]
  },
  {
   "attachments": {},
   "cell_type": "markdown",
   "metadata": {},
   "source": [
    "\n",
    "The functions in the `wrds_` modules will close database connections to WRDS automatically. However, if you open a connection manually, as above (with `wrds.Connection()`) make sure you remember to close that connection. In our example above:"
   ]
  },
  {
   "cell_type": "code",
   "execution_count": null,
   "metadata": {},
   "outputs": [],
   "source": [
    "#| eval: false\n",
    "db.close()"
   ]
  },
  {
   "attachments": {},
   "cell_type": "markdown",
   "metadata": {},
   "source": [
    "Check the `wrds_utils` module for an introduction to some of the main utilities that come with the `wrds` package."
   ]
  },
  {
   "attachments": {},
   "cell_type": "markdown",
   "metadata": {},
   "source": [
    "## FRED"
   ]
  },
  {
   "attachments": {},
   "cell_type": "markdown",
   "metadata": {},
   "source": [
    "> Downloads and processes datasets from the St. Louis [FRED](https://fred.stlouisfed.org/)."
   ]
  },
  {
   "attachments": {},
   "cell_type": "markdown",
   "metadata": {},
   "source": [
    "To use the functions in the `fred` module, you'll need an API key from the St. Louis FRED. \n",
    "\n",
    "Get one [here](https://fred.stlouisfed.org/docs/api/api_key.html) and store it in your environment variables under the name `FRED_API_KEY` \n",
    "\n",
    "Alternatively, you can supply the API key directly as the `api_key` parameter in each function in the `fred` module."
   ]
  },
  {
   "cell_type": "code",
   "execution_count": null,
   "metadata": {},
   "outputs": [
    {
     "data": {
      "text/html": [
       "<div>\n",
       "<style scoped>\n",
       "    .dataframe tbody tr th:only-of-type {\n",
       "        vertical-align: middle;\n",
       "    }\n",
       "\n",
       "    .dataframe tbody tr th {\n",
       "        vertical-align: top;\n",
       "    }\n",
       "\n",
       "    .dataframe thead th {\n",
       "        text-align: right;\n",
       "    }\n",
       "</style>\n",
       "<table border=\"1\" class=\"dataframe\">\n",
       "  <thead>\n",
       "    <tr style=\"text-align: right;\">\n",
       "      <th></th>\n",
       "      <th>dtdate</th>\n",
       "      <th>Nominal GDP</th>\n",
       "    </tr>\n",
       "    <tr>\n",
       "      <th>Qdate</th>\n",
       "      <th></th>\n",
       "      <th></th>\n",
       "    </tr>\n",
       "  </thead>\n",
       "  <tbody>\n",
       "    <tr>\n",
       "      <th>2022Q1</th>\n",
       "      <td>2022-01-01</td>\n",
       "      <td>24740.480</td>\n",
       "    </tr>\n",
       "    <tr>\n",
       "      <th>2022Q2</th>\n",
       "      <td>2022-04-01</td>\n",
       "      <td>25248.476</td>\n",
       "    </tr>\n",
       "    <tr>\n",
       "      <th>2022Q3</th>\n",
       "      <td>2022-07-01</td>\n",
       "      <td>25723.941</td>\n",
       "    </tr>\n",
       "    <tr>\n",
       "      <th>2022Q4</th>\n",
       "      <td>2022-10-01</td>\n",
       "      <td>26137.992</td>\n",
       "    </tr>\n",
       "    <tr>\n",
       "      <th>2023Q1</th>\n",
       "      <td>2023-01-01</td>\n",
       "      <td>26529.774</td>\n",
       "    </tr>\n",
       "  </tbody>\n",
       "</table>\n",
       "</div>"
      ],
      "text/plain": [
       "           dtdate  Nominal GDP\n",
       "Qdate                         \n",
       "2022Q1 2022-01-01    24740.480\n",
       "2022Q2 2022-04-01    25248.476\n",
       "2022Q3 2022-07-01    25723.941\n",
       "2022Q4 2022-10-01    26137.992\n",
       "2023Q1 2023-01-01    26529.774"
      ]
     },
     "execution_count": null,
     "metadata": {},
     "output_type": "execute_result"
    }
   ],
   "source": [
    "fred.clean('GDP', label='Nominal GDP').tail()"
   ]
  },
  {
   "attachments": {},
   "cell_type": "markdown",
   "metadata": {},
   "source": [
    "## PAPERS"
   ]
  },
  {
   "attachments": {},
   "cell_type": "markdown",
   "metadata": {},
   "source": [
    "> Downloads and processes datasets made available by the authors of academic papers.\n",
    "\n",
    "Each `papers` module handles a different paper. The naming convention is that the module's name is made up of the last names of the authors and the publication year, separated by underscores. If more than two authors, all but the first author's name is replaced by 'etal'. For example, the module for the paper “Firm-Level Political Risk: Measurement and Effects” (2019) by Tarek A. Hassan, Stephan Hollander, Laurence van Lent, Ahmed Tahoun is named `hasan_etal_2019`."
   ]
  },
  {
   "cell_type": "code",
   "execution_count": null,
   "metadata": {},
   "outputs": [
    {
     "data": {
      "text/plain": [
       "['gvkey', 'date', 'date_earningscall', 'PRisk', 'NPRisk', 'Risk', 'PSentiment']"
      ]
     },
     "execution_count": null,
     "metadata": {},
     "output_type": "execute_result"
    }
   ],
   "source": [
    "papers.hassan_etal_2019.variables()[:7]"
   ]
  },
  {
   "cell_type": "code",
   "execution_count": null,
   "metadata": {},
   "outputs": [],
   "source": [
    "#| hide\n",
    "# run the following line to clean up README.md file every time you change this index (otherwise dataframes are not rendered correctly)\n",
    "# sed -i \"/<style scoped>/,/<\\/style>/d\" README.md "
   ]
  }
 ],
 "metadata": {
  "kernelspec": {
   "display_name": "python3",
   "language": "python",
   "name": "python3"
  }
 },
 "nbformat": 4,
 "nbformat_minor": 4
}
