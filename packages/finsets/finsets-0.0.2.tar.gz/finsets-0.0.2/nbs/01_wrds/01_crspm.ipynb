{
 "cells": [
  {
   "attachments": {},
   "cell_type": "markdown",
   "metadata": {},
   "source": [
    "# wrds_crspm\n",
    "\n",
    "> Retrieve and process data from WRDS CRSP Monthly Stock File"
   ]
  },
  {
   "attachments": {},
   "cell_type": "markdown",
   "metadata": {},
   "source": [
    "Since this is a proprietary dataset, in the documentation below, I can not show any of the data that is being retrieved/generated (will show only column names)."
   ]
  },
  {
   "cell_type": "code",
   "execution_count": null,
   "metadata": {},
   "outputs": [],
   "source": [
    "#| default_exp wrds.crspm"
   ]
  },
  {
   "cell_type": "code",
   "execution_count": null,
   "metadata": {},
   "outputs": [],
   "source": [
    "#|exports\n",
    "from typing import List\n",
    "import os\n",
    "\n",
    "import pandas as pd\n",
    "import numpy as np\n",
    "\n",
    "import pandasmore as pdm\n",
    "from finsets.wrds import wrds_api"
   ]
  },
  {
   "cell_type": "code",
   "execution_count": null,
   "metadata": {},
   "outputs": [],
   "source": [
    "#| export\n",
    "def default_raw_vars():\n",
    "    \"\"\"Default variables used in `download` if none are specified. Takes about 2 min to download.\"\"\"\n",
    "    \n",
    "    return ['permno','permco','date',\n",
    "            'ret', 'retx', 'shrout', 'prc', \n",
    "            'shrcd', 'exchcd','siccd','ticker','cusip','ncusip']            "
   ]
  },
  {
   "cell_type": "code",
   "execution_count": null,
   "metadata": {},
   "outputs": [
    {
     "name": "stdout",
     "output_type": "stream",
     "text": [
      "['permno', 'permco', 'date', 'ret', 'retx', 'shrout', 'prc', 'shrcd', 'exchcd', 'siccd', 'ticker', 'cusip', 'ncusip']\n"
     ]
    }
   ],
   "source": [
    "print(default_raw_vars())"
   ]
  },
  {
   "cell_type": "code",
   "execution_count": null,
   "metadata": {},
   "outputs": [],
   "source": [
    "def parse_varlist(vars: List[str]=None,\n",
    "                  wrds_username: str=None\n",
    "                  ) -> str:\n",
    "    \"\"\"Figure out which `vars` come from the `crsp.msf` table and which come from the `crsp.msenames` table and add a. and b. prefixes\"\"\"\n",
    "\n",
    "    if wrds_username is None:\n",
    "        wrds_username = os.getenv('WRDS_USERNAME')\n",
    "        if wrds_username is None: wrds_username = input(\"Enter your WRDS username: \") \n",
    "\n",
    "    if vars is None: vars = default_raw_vars()\n",
    "    vars = ['permno','permco','date','exchcd'] + [x for x in vars if x not in ['permno','permco','date','exchcd']]\n",
    "\n",
    "    with wrds_api.Connection(wrds_username = wrds_username) as db:\n",
    "        all_msf_vars = list(db.describe_table('crsp','msf').name)\n",
    "        all_mse_vars = list(db.describe_table('crsp','msenames').name)\n",
    "        my_msf_vars = [f'a.{x}' for x in vars if x in all_msf_vars]\n",
    "        my_mse_vars = [f'b.{x}' for x in vars if (x in all_mse_vars) and (x not in all_msf_vars)]\n",
    "        varlist_string = ','.join(my_msf_vars + my_mse_vars)\n",
    "    return varlist_string"
   ]
  },
  {
   "cell_type": "code",
   "execution_count": null,
   "metadata": {},
   "outputs": [],
   "source": [
    "def delist_adj_ret(df: pd.DataFrame, # Requires `ret`,`exchcd`, ` `dlret`, and `dlstcd` variables\n",
    "                       adj_ret_var: str\n",
    "                       ) -> pd.DataFrame:\n",
    "    \"\"\"Adjust for delisting returns using Shumway and Warther (1999) and Johnson and Zhao (2007)\"\"\"\n",
    "\n",
    "    df['npdelist'] = (df['dlstcd']==500) | df['dlstcd'].between(520,584)\n",
    "    df['dlret'] = np.where(df.dlret.isna() & df.npdelist & df.exchcd.isin([1,2]), -0.35, df.dlret)\n",
    "    df['dlret'] = np.where(df.dlret.isna() & df.npdelist & df.exchcd.isin([3]), -0.55, df.dlret)\n",
    "    df['dlret'] = np.where(df.dlret.notna() & df.dlret < -1, -1, df.dlret)\n",
    "    df['dlret'] = df.dlret.fillna(0)\n",
    "\n",
    "    df[adj_ret_var] = (1 + df.ret) * (1 + df.dlret) - 1\n",
    "    df[adj_ret_var] = np.where(df[adj_ret_var].isna() & (df.dlret!=0), df.dlret, df[adj_ret_var])\n",
    "    df = df.drop('npdelist', axis=1) \n",
    "    return df"
   ]
  },
  {
   "cell_type": "code",
   "execution_count": null,
   "metadata": {},
   "outputs": [],
   "source": [
    "#| export\n",
    "def download(vars: List[str]=None, # If None, downloads `default_raw_vars`; else `permno`, `permco`, `date`, and 'exchcd' are added by default\n",
    "             wrds_username: str=None, #If None, looks for WRDS_USERNAME with `os.getenv`, then prompts you if needed\n",
    "             start_date: str=\"01/01/1900\", # Start date in MM/DD/YYYY format\n",
    "             end_date: str=None, # End date in MM/DD/YYYY format; if None, defaults to current date  \n",
    "             add_delist_adj_ret: bool=True, # Whether to calculate delisting-adjusted returns \n",
    "             adj_ret_var: str='ret_adj' # What to call the returns adjusted for delisting bias\n",
    "             ) -> pd.DataFrame:\n",
    "    \"\"\"Downloads `vars` from `start_date` to `end_date` from WRDS crsp.msf and crsp.msenames libraries. \n",
    "        Creates `ret_adj` for delisting based on Shumway and Warther (1999) and Johnson and Zhao (2007)\"\"\"\n",
    "\n",
    "    varlist_string = parse_varlist(vars, wrds_username)\n",
    "    sql_string = f\"\"\"SELECT {varlist_string},  c.dlstcd, c.dlret \n",
    "                        FROM crsp.msf AS a \n",
    "                        LEFT JOIN crsp.msenames AS b\n",
    "                            ON a.permno=b.permno AND b.namedt<=a.date AND a.date<=b.nameendt                     \n",
    "                        LEFT JOIN crsp.msedelist as c\n",
    "                            ON a.permno=c.permno AND date_trunc('month', a.date) = date_trunc('month', c.dlstdt)                            \n",
    "                            WHERE a.date BETWEEN '{start_date}' AND COALESCE(%(end)s, CURRENT_DATE) \n",
    "                \"\"\"\n",
    "    df = wrds_api.download(sql_string, wrds_username=wrds_username, params={'end':end_date})\n",
    "    if add_delist_adj_ret: df = delist_adj_ret(df, adj_ret_var)\n",
    "    else: df = df.drop(['dlret','dlstcd'], axis=1)\n",
    "    return df "
   ]
  },
  {
   "cell_type": "code",
   "execution_count": null,
   "metadata": {},
   "outputs": [
    {
     "name": "stdout",
     "output_type": "stream",
     "text": [
      "Loading library list...\n",
      "Done\n",
      "Approximately 4922867 rows in crsp.msf.\n",
      "Approximately 111623 rows in crsp.msenames.\n",
      "Loading library list...\n",
      "Done\n"
     ]
    }
   ],
   "source": [
    "#| eval: false\n",
    "raw = download(start_date='01/01/2021')"
   ]
  },
  {
   "cell_type": "code",
   "execution_count": null,
   "metadata": {},
   "outputs": [
    {
     "data": {
      "text/html": [
       "<div>\n",
       "<style scoped>\n",
       "    .dataframe tbody tr th:only-of-type {\n",
       "        vertical-align: middle;\n",
       "    }\n",
       "\n",
       "    .dataframe tbody tr th {\n",
       "        vertical-align: top;\n",
       "    }\n",
       "\n",
       "    .dataframe thead th {\n",
       "        text-align: right;\n",
       "    }\n",
       "</style>\n",
       "<table border=\"1\" class=\"dataframe\">\n",
       "  <thead>\n",
       "    <tr style=\"text-align: right;\">\n",
       "      <th></th>\n",
       "      <th>permno</th>\n",
       "      <th>permco</th>\n",
       "      <th>date</th>\n",
       "      <th>ret</th>\n",
       "      <th>retx</th>\n",
       "      <th>shrout</th>\n",
       "      <th>prc</th>\n",
       "      <th>cusip</th>\n",
       "      <th>exchcd</th>\n",
       "      <th>shrcd</th>\n",
       "      <th>siccd</th>\n",
       "      <th>ticker</th>\n",
       "      <th>ncusip</th>\n",
       "      <th>dlstcd</th>\n",
       "      <th>dlret</th>\n",
       "      <th>ret_adj</th>\n",
       "    </tr>\n",
       "  </thead>\n",
       "  <tbody>\n",
       "  </tbody>\n",
       "</table>\n",
       "</div>"
      ],
      "text/plain": [
       "Empty DataFrame\n",
       "Columns: [permno, permco, date, ret, retx, shrout, prc, cusip, exchcd, shrcd, siccd, ticker, ncusip, dlstcd, dlret, ret_adj]\n",
       "Index: []"
      ]
     },
     "execution_count": null,
     "metadata": {},
     "output_type": "execute_result"
    }
   ],
   "source": [
    "#| eval: false\n",
    "raw.head(0)"
   ]
  },
  {
   "cell_type": "code",
   "execution_count": null,
   "metadata": {},
   "outputs": [],
   "source": [
    "#| export\n",
    "def clean(df: pd.DataFrame=None, # If None, downloads `vars` using `download` function; else, must contain `permno` and `date` columns\n",
    "          vars: List[str]=None, # If None, downloads `default_raw_vars`\n",
    "          wrds_username: str=None, #If None, looks for WRDS_USERNAME with `os.getenv`, then prompts you if needed\n",
    "          start_date: str=\"01/01/1900\", # Start date in MM/DD/YYYY format\n",
    "          end_date: str=None, # End date. Default is current date          \n",
    "          clean_kwargs: dict={}, # Params to pass to `pdm.setup_panel` other than `panel_ids`, `time_var`, and `freq`\n",
    "          ) -> pd.DataFrame:\n",
    "    \"\"\"Applies `pandasmore.setup_panel` to `df`. If `df` is None, downloads `vars` using `download` function.\"\"\"\n",
    "\n",
    "    if df is None: df = download(vars=vars, wrds_username=wrds_username, start_date=start_date, end_date=end_date)\n",
    "    df = pdm.setup_panel(df, panel_ids='permno', time_var='date', freq='M', **clean_kwargs)\n",
    "    return df "
   ]
  },
  {
   "cell_type": "code",
   "execution_count": null,
   "metadata": {},
   "outputs": [],
   "source": [
    "#| eval: false\n",
    "df = clean(df=raw)"
   ]
  },
  {
   "cell_type": "code",
   "execution_count": null,
   "metadata": {},
   "outputs": [
    {
     "data": {
      "text/html": [
       "<div>\n",
       "<style scoped>\n",
       "    .dataframe tbody tr th:only-of-type {\n",
       "        vertical-align: middle;\n",
       "    }\n",
       "\n",
       "    .dataframe tbody tr th {\n",
       "        vertical-align: top;\n",
       "    }\n",
       "\n",
       "    .dataframe thead th {\n",
       "        text-align: right;\n",
       "    }\n",
       "</style>\n",
       "<table border=\"1\" class=\"dataframe\">\n",
       "  <thead>\n",
       "    <tr style=\"text-align: right;\">\n",
       "      <th></th>\n",
       "      <th></th>\n",
       "      <th>date</th>\n",
       "      <th>dtdate</th>\n",
       "      <th>permco</th>\n",
       "      <th>ret</th>\n",
       "      <th>retx</th>\n",
       "      <th>shrout</th>\n",
       "      <th>prc</th>\n",
       "      <th>cusip</th>\n",
       "      <th>exchcd</th>\n",
       "      <th>shrcd</th>\n",
       "      <th>siccd</th>\n",
       "      <th>ticker</th>\n",
       "      <th>ncusip</th>\n",
       "      <th>dlstcd</th>\n",
       "      <th>dlret</th>\n",
       "      <th>ret_adj</th>\n",
       "    </tr>\n",
       "    <tr>\n",
       "      <th>permno</th>\n",
       "      <th>Mdate</th>\n",
       "      <th></th>\n",
       "      <th></th>\n",
       "      <th></th>\n",
       "      <th></th>\n",
       "      <th></th>\n",
       "      <th></th>\n",
       "      <th></th>\n",
       "      <th></th>\n",
       "      <th></th>\n",
       "      <th></th>\n",
       "      <th></th>\n",
       "      <th></th>\n",
       "      <th></th>\n",
       "      <th></th>\n",
       "      <th></th>\n",
       "      <th></th>\n",
       "    </tr>\n",
       "  </thead>\n",
       "  <tbody>\n",
       "  </tbody>\n",
       "</table>\n",
       "</div>"
      ],
      "text/plain": [
       "Empty DataFrame\n",
       "Columns: [date, dtdate, permco, ret, retx, shrout, prc, cusip, exchcd, shrcd, siccd, ticker, ncusip, dlstcd, dlret, ret_adj]\n",
       "Index: []"
      ]
     },
     "execution_count": null,
     "metadata": {},
     "output_type": "execute_result"
    }
   ],
   "source": [
    "#| eval: false\n",
    "df.head(0)"
   ]
  },
  {
   "cell_type": "code",
   "execution_count": null,
   "metadata": {},
   "outputs": [
    {
     "name": "stdout",
     "output_type": "stream",
     "text": [
      "Loading library list...\n",
      "Done\n",
      "Approximately 4922867 rows in crsp.msf.\n",
      "Approximately 111623 rows in crsp.msenames.\n",
      "Loading library list...\n",
      "Done\n"
     ]
    }
   ],
   "source": [
    "#| eval: false\n",
    "df = clean(vars=['ret','shrcd','exchcd'], start_date='01/01/2020', end_date='12/31/2020')"
   ]
  },
  {
   "cell_type": "code",
   "execution_count": null,
   "metadata": {},
   "outputs": [
    {
     "data": {
      "text/html": [
       "<div>\n",
       "<style scoped>\n",
       "    .dataframe tbody tr th:only-of-type {\n",
       "        vertical-align: middle;\n",
       "    }\n",
       "\n",
       "    .dataframe tbody tr th {\n",
       "        vertical-align: top;\n",
       "    }\n",
       "\n",
       "    .dataframe thead th {\n",
       "        text-align: right;\n",
       "    }\n",
       "</style>\n",
       "<table border=\"1\" class=\"dataframe\">\n",
       "  <thead>\n",
       "    <tr style=\"text-align: right;\">\n",
       "      <th></th>\n",
       "      <th></th>\n",
       "      <th>date</th>\n",
       "      <th>dtdate</th>\n",
       "      <th>permco</th>\n",
       "      <th>ret</th>\n",
       "      <th>exchcd</th>\n",
       "      <th>shrcd</th>\n",
       "      <th>dlstcd</th>\n",
       "      <th>dlret</th>\n",
       "      <th>ret_adj</th>\n",
       "    </tr>\n",
       "    <tr>\n",
       "      <th>permno</th>\n",
       "      <th>Mdate</th>\n",
       "      <th></th>\n",
       "      <th></th>\n",
       "      <th></th>\n",
       "      <th></th>\n",
       "      <th></th>\n",
       "      <th></th>\n",
       "      <th></th>\n",
       "      <th></th>\n",
       "      <th></th>\n",
       "    </tr>\n",
       "  </thead>\n",
       "  <tbody>\n",
       "  </tbody>\n",
       "</table>\n",
       "</div>"
      ],
      "text/plain": [
       "Empty DataFrame\n",
       "Columns: [date, dtdate, permco, ret, exchcd, shrcd, dlstcd, dlret, ret_adj]\n",
       "Index: []"
      ]
     },
     "execution_count": null,
     "metadata": {},
     "output_type": "execute_result"
    }
   ],
   "source": [
    "#| eval: false\n",
    "df.head(0)"
   ]
  },
  {
   "cell_type": "code",
   "execution_count": null,
   "metadata": {},
   "outputs": [],
   "source": [
    "#| hide\n",
    "import nbdev; nbdev.nbdev_export()"
   ]
  }
 ],
 "metadata": {
  "kernelspec": {
   "display_name": "python3",
   "language": "python",
   "name": "python3"
  }
 },
 "nbformat": 4,
 "nbformat_minor": 2
}
