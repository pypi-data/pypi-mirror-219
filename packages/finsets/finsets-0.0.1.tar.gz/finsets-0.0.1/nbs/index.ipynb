{
 "cells": [
  {
   "attachments": {},
   "cell_type": "markdown",
   "metadata": {},
   "source": [
    "# finsets\n",
    "\n",
    "> Download and process datasets commonly used in finance research"
   ]
  },
  {
   "attachments": {},
   "cell_type": "markdown",
   "metadata": {},
   "source": [
    "[Documentation site](https://ionmihai.github.io/finsets/).\n",
    "\n",
    "[GitHub page](https://github.com/ionmihai/finsets)."
   ]
  },
  {
   "attachments": {},
   "cell_type": "markdown",
   "metadata": {},
   "source": [
    "## Install"
   ]
  },
  {
   "attachments": {},
   "cell_type": "markdown",
   "metadata": {},
   "source": [
    "```sh\n",
    "pip install finsets\n",
    "```"
   ]
  },
  {
   "attachments": {},
   "cell_type": "markdown",
   "metadata": {},
   "source": [
    "## How to use"
   ]
  },
  {
   "cell_type": "code",
   "execution_count": null,
   "metadata": {},
   "outputs": [],
   "source": [
    "import finsets as fds"
   ]
  },
  {
   "cell_type": "markdown",
   "metadata": {},
   "source": [
    "or"
   ]
  },
  {
   "cell_type": "code",
   "execution_count": null,
   "metadata": {},
   "outputs": [],
   "source": [
    "from finsets import fred, wrds, papers"
   ]
  },
  {
   "attachments": {},
   "cell_type": "markdown",
   "metadata": {},
   "source": [
    "## WRDS"
   ]
  },
  {
   "attachments": {},
   "cell_type": "markdown",
   "metadata": {},
   "source": [
    "Before you use any of the `wrds_` modules, you need to create a `pgpass` with your WRDS credentials. To do that, run"
   ]
  },
  {
   "cell_type": "code",
   "execution_count": null,
   "metadata": {},
   "outputs": [],
   "source": [
    "from finsets.wrds import wrds_api"
   ]
  },
  {
   "cell_type": "code",
   "execution_count": null,
   "metadata": {},
   "outputs": [
    {
     "name": "stdout",
     "output_type": "stream",
     "text": [
      "WRDS recommends setting up a .pgpass file.\n",
      "You can create this file yourself at any time with the create_pgpass_file() function.\n",
      "Loading library list...\n",
      "Done\n"
     ]
    }
   ],
   "source": [
    "#| eval: false\n",
    "db = wrds_api.Connection()"
   ]
  },
  {
   "attachments": {},
   "cell_type": "markdown",
   "metadata": {},
   "source": [
    "This will prompt you for your WRDS username and password. After you enter your credentials, if you don't have a `pgpass` file already set up, it will ask you if you want to do that. Hit `y` and it will be automatically created for you. After this, you will never have to input your WRDS password. "
   ]
  },
  {
   "attachments": {},
   "cell_type": "markdown",
   "metadata": {},
   "source": [
    "You will still have to supply your WRDS username to functions that retrieve data from WRDS (all of them have a `wrds_username` parameter). If you don't want to be prompted for the username for every download, save it under a `WRDS_USERNAME` environment variable:\n",
    "\n",
    "- On Windows, in a Command Prompt: \n",
    "    - ```setx WRDS_USERNAME \"your_wrds_username_here\"```\n",
    "- On Linux, in a terminal: \n",
    "    - `echo 'export WRDS_USERNAME=\"your_wrds_username_here\"' >> ~/.bashrc && source ~/.bashrc`\n",
    "- On macOS, since macOS Catalina:\n",
    "    - `echo 'export WRDS_USERNAME=\"your_wrds_username_here\"' >> ~/.zshrc && source ~/.szhrc`\n",
    "- On macOS, prior to macOS Catalina:\n",
    "    - `echo 'export WRDS_USERNAME=\"your_wrds_username_here\"' >> ~/.bash_profile && source ~/.bash_profile`"
   ]
  },
  {
   "attachments": {},
   "cell_type": "markdown",
   "metadata": {},
   "source": [
    "\n",
    "The functions in the `wrds_` modules will close database connections to WRDS automatically. However, if you open a connection manually, as above (with `wrds.Connection()`) make sure you remember to close that connection. In our example above:"
   ]
  },
  {
   "cell_type": "code",
   "execution_count": null,
   "metadata": {},
   "outputs": [],
   "source": [
    "#| eval: false\n",
    "db.close()"
   ]
  },
  {
   "attachments": {},
   "cell_type": "markdown",
   "metadata": {},
   "source": [
    "Check the `wrds_utils` module for an introduction to some of the main utilities that come with the `wrds` package."
   ]
  },
  {
   "attachments": {},
   "cell_type": "markdown",
   "metadata": {},
   "source": [
    "## FRED"
   ]
  },
  {
   "attachments": {},
   "cell_type": "markdown",
   "metadata": {},
   "source": [
    "To use the functions in the `fred` module, you'll need an API key from the St. Louis FRED. \n",
    "\n",
    "Get one [here](https://fred.stlouisfed.org/docs/api/api_key.html) and store it in your environment variables under the name `FRED_API_KEY` \n",
    "\n",
    "Alternatively, you can supply the API key directly as the `api_key` parameter in each function in the `fred` module."
   ]
  },
  {
   "cell_type": "code",
   "execution_count": null,
   "metadata": {},
   "outputs": [],
   "source": [
    "#| hide\n",
    "# run the following line to clean up README.md file every time you change this index (otherwise dataframes are not rendered correctly)\n",
    "# sed -i \"/<style scoped>/,/<\\/style>/d\" README.md "
   ]
  }
 ],
 "metadata": {
  "kernelspec": {
   "display_name": "python3",
   "language": "python",
   "name": "python3"
  },
  "language_info": {
   "name": "python",
   "version": "3.9.16"
  }
 },
 "nbformat": 4,
 "nbformat_minor": 4
}
