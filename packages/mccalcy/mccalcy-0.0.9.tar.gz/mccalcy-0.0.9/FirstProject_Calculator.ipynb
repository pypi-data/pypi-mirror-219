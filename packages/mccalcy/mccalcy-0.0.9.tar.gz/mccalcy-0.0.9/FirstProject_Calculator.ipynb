{
  "nbformat": 4,
  "nbformat_minor": 0,
  "metadata": {
    "colab": {
      "provenance": [],
      "authorship_tag": "ABX9TyMIwkvRFhxyFyTpMHC32lZz",
      "include_colab_link": true
    },
    "kernelspec": {
      "name": "python3",
      "display_name": "Python 3"
    },
    "language_info": {
      "name": "python"
    }
  },
  "cells": [
    {
      "cell_type": "markdown",
      "metadata": {
        "id": "view-in-github",
        "colab_type": "text"
      },
      "source": [
        "<a href=\"https://colab.research.google.com/github/VitalijusKiubis/mccalcy/blob/main/FirstProject_Calculator.ipynb\" target=\"_parent\"><img src=\"https://colab.research.google.com/assets/colab-badge.svg\" alt=\"Open In Colab\"/></a>"
      ]
    },
    {
      "cell_type": "code",
      "execution_count": null,
      "metadata": {
        "colab": {
          "base_uri": "https://localhost:8080/"
        },
        "id": "iNPHUiqMT49e",
        "outputId": "d5fea96d-9d40-4367-e1ff-62016073ce09"
      },
      "outputs": [
        {
          "output_type": "stream",
          "name": "stdout",
          "text": [
            "Python 3.10.12\n"
          ]
        }
      ],
      "source": [
        "!python --version"
      ]
    },
    {
      "cell_type": "code",
      "source": [
        "!pip install mccalcy==0.0.1"
      ],
      "metadata": {
        "colab": {
          "base_uri": "https://localhost:8080/"
        },
        "id": "hle0hyMwVG99",
        "outputId": "09a10afc-e887-4e3b-b7a7-da4dcc67cc86"
      },
      "execution_count": null,
      "outputs": [
        {
          "output_type": "stream",
          "name": "stdout",
          "text": [
            "Collecting mccalcy==0.0.1\n",
            "  Downloading mccalcy-0.0.1-py3-none-any.whl (3.0 kB)\n",
            "Installing collected packages: mccalcy\n",
            "Successfully installed mccalcy-0.0.1\n"
          ]
        }
      ]
    },
    {
      "cell_type": "code",
      "source": [
        "from mccalcy import mccalcy"
      ],
      "metadata": {
        "id": "dmEf_Sl1VGvW"
      },
      "execution_count": null,
      "outputs": []
    },
    {
      "cell_type": "code",
      "source": [
        "calc = mccalcy.Calculator()"
      ],
      "metadata": {
        "id": "UBysp-CFVGeD"
      },
      "execution_count": null,
      "outputs": []
    },
    {
      "cell_type": "code",
      "source": [
        "# Perform calculations\n",
        "calc.add(5.6)\n",
        "print(calc.memory)\n",
        "calc.subtract(2)\n",
        "print(calc.memory)\n",
        "calc.multiply(9)\n",
        "print(calc.memory)\n",
        "calc.divide(1)\n",
        "print(calc.memory)\n",
        "calc.root(3)\n",
        "\n",
        "# Print the current memory value\n",
        "print(\"Memory:\", calc.memory)\n"
      ],
      "metadata": {
        "colab": {
          "base_uri": "https://localhost:8080/"
        },
        "id": "CPw_3_cEWMOA",
        "outputId": "00f483d2-f3f7-4c48-f7be-3cbb276e6225"
      },
      "execution_count": null,
      "outputs": [
        {
          "output_type": "stream",
          "name": "stdout",
          "text": [
            "5.6\n",
            "3.5999999999999996\n",
            "32.4\n",
            "32.4\n",
            "Memory: 3.187975707547833\n"
          ]
        }
      ]
    },
    {
      "cell_type": "code",
      "source": [
        "# Reset the memory\n",
        "calc.reset_memory()\n",
        "print(\"Memory after reset:\", calc.memory)\n"
      ],
      "metadata": {
        "colab": {
          "base_uri": "https://localhost:8080/"
        },
        "id": "8coj7__7Wi2F",
        "outputId": "c1359cda-f941-4b53-caaf-f885985c2e77"
      },
      "execution_count": null,
      "outputs": [
        {
          "output_type": "stream",
          "name": "stdout",
          "text": [
            "Memory after reset: 0\n"
          ]
        }
      ]
    }
  ]
}